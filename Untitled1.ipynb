{
 "cells": [
  {
   "cell_type": "code",
   "execution_count": 19,
   "id": "3396da9d-be67-4014-b708-eb0ffdeaddb1",
   "metadata": {},
   "outputs": [
    {
     "name": "stdin",
     "output_type": "stream",
     "text": [
      "Enter Employee name Richard\n",
      "Enter salary $25000\n",
      "Enter company name Glo\n"
     ]
    },
    {
     "name": "stdout",
     "output_type": "stream",
     "text": [
      "\n",
      "\n",
      "name salary company\n",
      "Richard $25000 Glo\n"
     ]
    }
   ],
   "source": [
    "name=input(\"Enter Employee name\")\n",
    "salary=input(\"Enter salary\")\n",
    "company=input(\"Enter company name\")\n",
    "\n",
    "#Display all values on screen\n",
    "print(\"\\n\")\n",
    "print(\"name\",\"salary\",\"company\")\n",
    "print(name,salary,company)"
   ]
  },
  {
   "cell_type": "code",
   "execution_count": 23,
   "id": "7bb6249b-479d-45bc-8c8e-388d8898f59c",
   "metadata": {},
   "outputs": [
    {
     "name": "stdin",
     "output_type": "stream",
     "text": [
      "Enter a number:  26\n"
     ]
    },
    {
     "name": "stdout",
     "output_type": "stream",
     "text": [
      "This is positive {26.0}\n"
     ]
    }
   ],
   "source": [
    "number=float(input('Enter a number: '))\n",
    "if number==0:\n",
    "    print(f'This number is zero',{number})\n",
    "elif number>0:\n",
    "    print(f'This is positive',{number})\n",
    "else:\n",
    "    print(f'This is negative',{number})\n",
    "             \n",
    "\n"
   ]
  },
  {
   "cell_type": "code",
   "execution_count": 12,
   "id": "62386150-a3bd-4676-ba8e-784a9523f882",
   "metadata": {},
   "outputs": [
    {
     "name": "stdin",
     "output_type": "stream",
     "text": [
      "Enter your age:  100\n"
     ]
    },
    {
     "name": "stdout",
     "output_type": "stream",
     "text": [
      "You are old\n"
     ]
    }
   ],
   "source": [
    "age=int(input('Enter your age: '))\n",
    "if age<13:\n",
    "    print(\"You are a child\")\n",
    "elif age>=13 and age<18:\n",
    "    print(\"You are a teenage\")\n",
    "elif age>=18 and age<=59:\n",
    "    print(\"You are an adult\")\n",
    "else:\n",
    "    print(\"You are old\")"
   ]
  },
  {
   "cell_type": "code",
   "execution_count": 15,
   "id": "18549ae5-5413-4593-8293-bf64e0456f14",
   "metadata": {},
   "outputs": [
    {
     "name": "stdin",
     "output_type": "stream",
     "text": [
      "Enter first number:  10\n",
      "Enter second number:  10\n"
     ]
    },
    {
     "name": "stdout",
     "output_type": "stream",
     "text": [
      "First_num,operator,Second_num = 100\n"
     ]
    }
   ],
   "source": [
    "operator='*'\n",
    "First_num=int(input(\"Enter first number: \"))\n",
    "Second_num=int(input(\"Enter second number: \"))\n",
    "if operator=='*':\n",
    "    multiply=(First_num*Second_num)\n",
    "    print(\"First_num,operator,Second_num\",'=',multiply)"
   ]
  },
  {
   "cell_type": "code",
   "execution_count": null,
   "id": "661c1f07-0be9-464f-aab0-e022e0e8728d",
   "metadata": {},
   "outputs": [],
   "source": [
    "operator=input('operator +,-,*,/:')\n",
    "first_num=int(input(\"Enter your first_num: \"))\n",
    "second_num=int(input(\"Enter your second_num: \"))\n",
    "if operator=='+':\n",
    "    sum=int(first_num+second_num)\n",
    "    print(first_num,operator,second_num,'=',sum)\n",
    "elif operator=='-':\n",
    "    subtract=(first_num-second_num)\n",
    "    print(first_num,operator,second_num,'=',subtract)\n",
    "elif operator=='*':\n",
    "    multiply=(first_num*second_num)\n",
    "    print(first_num,operator,second_num,'=',multiply)\n",
    "else:\n",
    "    divide=(first_num/second_num)\n",
    "    print(first_num,operator,second_num,'=',divide)\n",
    "    "
   ]
  },
  {
   "cell_type": "code",
   "execution_count": null,
   "id": "b2d0d5d8-7c45-46c4-ab2f-b5596000c75b",
   "metadata": {},
   "outputs": [],
   "source": []
  }
 ],
 "metadata": {
  "kernelspec": {
   "display_name": "Python 3 (ipykernel)",
   "language": "python",
   "name": "python3"
  },
  "language_info": {
   "codemirror_mode": {
    "name": "ipython",
    "version": 3
   },
   "file_extension": ".py",
   "mimetype": "text/x-python",
   "name": "python",
   "nbconvert_exporter": "python",
   "pygments_lexer": "ipython3",
   "version": "3.13.0"
  },
  "widgets": {
   "application/vnd.jupyter.widget-state+json": {
    "state": {},
    "version_major": 2,
    "version_minor": 0
   }
  }
 },
 "nbformat": 4,
 "nbformat_minor": 5
}
