{
 "cells": [
  {
   "cell_type": "code",
   "execution_count": 43,
   "id": "2abf3ce8-f6e5-4ef6-b257-ae0e19ec2541",
   "metadata": {},
   "outputs": [],
   "source": [
    "#polymorphism is a method or a function that is being used by an object multiple times.\n",
    "class car:\n",
    "    def __init__(self,brand,model):\n",
    "        self.brand=brand\n",
    "        self.model=model\n",
    "    def move(self):\n",
    "        print('i will drive by road')\n",
    "    def message(self):\n",
    "        print(f'my brand and model are {self.brand} and {self.model}')\n",
    "\n",
    "class ship:\n",
    "    def __init__(self,brand,model):\n",
    "        self.brand=brand\n",
    "        self.model=model\n",
    "    def move(self):\n",
    "        print('i will sail by water')\n",
    "    def message(self):\n",
    "        print(f'my brand and model are {self.brand} and {self.model}')\n",
    "\n",
    "class plane:\n",
    "    def __init__(self,brand,model):\n",
    "        self.brand=brand\n",
    "        self.model=model\n",
    "    def move(self):\n",
    "        print('i will fly by air')\n",
    "    def message(self):\n",
    "        print(f'my brand and model are {self.brand} and {self.model}')\n",
    "\n"
   ]
  },
  {
   "cell_type": "code",
   "execution_count": 44,
   "id": "db9792a1-9e78-4750-89ac-e8efdfe9e4ce",
   "metadata": {},
   "outputs": [
    {
     "name": "stdout",
     "output_type": "stream",
     "text": [
      "my brand and model are Benz and 2024\n",
      "i will drive by road\n",
      "my brand and model are yatch and yt345\n",
      "i will sail by water\n",
      "my brand and model are jet and Qatar\n",
      "i will fly by air\n"
     ]
    }
   ],
   "source": [
    "car1=car('Benz',2024)\n",
    "ship1=ship('yatch','yt345')\n",
    "plane1=plane('jet','Qatar')\n",
    "for x in (car1, ship1, plane1):\n",
    "    x.message()\n",
    "    x.move()"
   ]
  },
  {
   "cell_type": "code",
   "execution_count": 45,
   "id": "39658c0e-1c99-41f5-896b-325a4553bbbf",
   "metadata": {},
   "outputs": [],
   "source": [
    "#polymorphism with inheritance\n",
    "class meal:                 #parent class\n",
    "    def __init__(self,type,price):\n",
    "        self.type=type\n",
    "        self.price=price\n",
    "    def temp(self):\n",
    "         print('i am hot')\n",
    "    def message(self):\n",
    "         print(f'my meal and price are {self.type} and {self.price}')"
   ]
  },
  {
   "cell_type": "code",
   "execution_count": 46,
   "id": "3a92b611-1dd0-4604-8057-60e1808d2194",
   "metadata": {},
   "outputs": [],
   "source": [
    "#child class\n",
    "class fries(meal):\n",
    "    pass\n",
    "\n",
    "class rice(meal):\n",
    "     def __init__(self,type,price):\n",
    "        meal.__init__(self,type,price)\n",
    "     def temp(self):\n",
    "        print('i am hot')\n",
    "     def message(self):\n",
    "        print(f'my meal and price are {self.type} and {self.price}')"
   ]
  },
  {
   "cell_type": "code",
   "execution_count": 40,
   "id": "73b35799-d5ea-4154-a7e8-a7c975f27e20",
   "metadata": {},
   "outputs": [
    {
     "name": "stdout",
     "output_type": "stream",
     "text": [
      "my meal and price are chips 2800\n",
      "i am hot\n",
      "my meal and price are ofada and 2000\n",
      "i am hot\n"
     ]
    }
   ],
   "source": [
    "f1=fries('chips',2800)\n",
    "r1=rice('ofada',2000)\n",
    "for x in (f1,r1):\n",
    "    x.message()\n",
    "    x.temp()"
   ]
  },
  {
   "cell_type": "code",
   "execution_count": null,
   "id": "19485d5f-3eef-4b9c-99cf-b0b70a27f2ab",
   "metadata": {},
   "outputs": [],
   "source": []
  }
 ],
 "metadata": {
  "kernelspec": {
   "display_name": "Python 3 (ipykernel)",
   "language": "python",
   "name": "python3"
  },
  "language_info": {
   "codemirror_mode": {
    "name": "ipython",
    "version": 3
   },
   "file_extension": ".py",
   "mimetype": "text/x-python",
   "name": "python",
   "nbconvert_exporter": "python",
   "pygments_lexer": "ipython3",
   "version": "3.13.0"
  },
  "widgets": {
   "application/vnd.jupyter.widget-state+json": {
    "state": {},
    "version_major": 2,
    "version_minor": 0
   }
  }
 },
 "nbformat": 4,
 "nbformat_minor": 5
}
