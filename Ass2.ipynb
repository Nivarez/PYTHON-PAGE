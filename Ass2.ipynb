{
 "cells": [
  {
   "cell_type": "code",
   "execution_count": 4,
   "id": "2eb06e00-fdba-4d8c-8993-54322bbc13eb",
   "metadata": {},
   "outputs": [
    {
     "name": "stdout",
     "output_type": "stream",
     "text": [
      "This program check if a number is Even or Odd\n"
     ]
    },
    {
     "name": "stdin",
     "output_type": "stream",
     "text": [
      "Enter a number:  5\n"
     ]
    },
    {
     "name": "stdout",
     "output_type": "stream",
     "text": [
      "This is Even number\n"
     ]
    }
   ],
   "source": [
    "print(\"This program check if a number is Even or Odd\")\n",
    "num=(input(\"Enter a number: \"))\n",
    "num=0\n",
    "if num%2==0:\n",
    "    print(\"This is Even number\")\n",
    "else:\n",
    "    print(\"This is Odd number\")"
   ]
  },
  {
   "cell_type": "code",
   "execution_count": null,
   "id": "0df85d86-6762-4d59-b703-d38f654fd110",
   "metadata": {},
   "outputs": [],
   "source": []
  }
 ],
 "metadata": {
  "kernelspec": {
   "display_name": "Python 3 (ipykernel)",
   "language": "python",
   "name": "python3"
  },
  "language_info": {
   "codemirror_mode": {
    "name": "ipython",
    "version": 3
   },
   "file_extension": ".py",
   "mimetype": "text/x-python",
   "name": "python",
   "nbconvert_exporter": "python",
   "pygments_lexer": "ipython3",
   "version": "3.13.0"
  },
  "widgets": {
   "application/vnd.jupyter.widget-state+json": {
    "state": {},
    "version_major": 2,
    "version_minor": 0
   }
  }
 },
 "nbformat": 4,
 "nbformat_minor": 5
}
