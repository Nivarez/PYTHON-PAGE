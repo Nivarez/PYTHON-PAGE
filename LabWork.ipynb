{
 "cells": [
  {
   "cell_type": "code",
   "execution_count": 2,
   "id": "4a68dead-4323-471e-8028-a151b4afbfca",
   "metadata": {},
   "outputs": [
    {
     "name": "stdin",
     "output_type": "stream",
     "text": [
      "Enter a number:  3\n"
     ]
    },
    {
     "name": "stdout",
     "output_type": "stream",
     "text": [
      "The number 3.0 is positive\n"
     ]
    }
   ],
   "source": [
    "number=float(input(\"Enter a number: \"))\n",
    "if number==0:\n",
    "  print(\"The number\",number,\"is zero\")\n",
    "elif number>0:\n",
    "  print(f'The number {number} is positive')\n",
    "else :\n",
    "  print(f'The number {number} is negative')"
   ]
  },
  {
   "cell_type": "code",
   "execution_count": 3,
   "id": "7c808734-13a7-4a30-a7eb-1c4f3f2e1c4d",
   "metadata": {},
   "outputs": [
    {
     "name": "stdin",
     "output_type": "stream",
     "text": [
      "Enter your age 56\n"
     ]
    },
    {
     "name": "stdout",
     "output_type": "stream",
     "text": [
      "you are an adult\n"
     ]
    }
   ],
   "source": [
    "age=int(input(\"Enter your age\"))\n",
    "if age<13:\n",
    "    print('You are a child')\n",
    "elif age>=13 and age<18:\n",
    "    print('You are a teenager')\n",
    "elif age>=18 and age<=59:\n",
    "    print('you are an adult')\n",
    "else:\n",
    "    print('You are old')\n"
   ]
  },
  {
   "cell_type": "code",
   "execution_count": null,
   "id": "cc805c7c-e802-4f47-be06-93d83616bb88",
   "metadata": {},
   "outputs": [],
   "source": []
  }
 ],
 "metadata": {
  "kernelspec": {
   "display_name": "Python 3 (ipykernel)",
   "language": "python",
   "name": "python3"
  },
  "language_info": {
   "codemirror_mode": {
    "name": "ipython",
    "version": 3
   },
   "file_extension": ".py",
   "mimetype": "text/x-python",
   "name": "python",
   "nbconvert_exporter": "python",
   "pygments_lexer": "ipython3",
   "version": "3.13.0"
  },
  "widgets": {
   "application/vnd.jupyter.widget-state+json": {
    "state": {},
    "version_major": 2,
    "version_minor": 0
   }
  }
 },
 "nbformat": 4,
 "nbformat_minor": 5
}
