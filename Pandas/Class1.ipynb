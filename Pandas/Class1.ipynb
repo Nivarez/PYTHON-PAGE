{
 "cells": [
  {
   "cell_type": "markdown",
   "id": "694e2cf9-2f3d-438b-9f9d-10ebf561265a",
   "metadata": {},
   "source": [
    "# pandas"
   ]
  },
  {
   "cell_type": "code",
   "execution_count": 1,
   "id": "c40313e5-5e2e-4ae2-ab4e-9837a5e006b6",
   "metadata": {},
   "outputs": [],
   "source": [
    "import pandas as pd"
   ]
  },
  {
   "cell_type": "code",
   "execution_count": 2,
   "id": "27e9bc77-421f-49f8-b19b-c384b78e743c",
   "metadata": {},
   "outputs": [],
   "source": [
    "#pandas are python libraries used to analize and clean data.\n",
    "#There (2) types of pandas\n",
    "#1.Series\n",
    "#2.Dataframe\n",
    "#SERIES in python pandas are one dimensional array used to store data sets in pandas. Pandas series must be in capital letter for it to run."
   ]
  },
  {
   "cell_type": "code",
   "execution_count": 3,
   "id": "b9b2042e-b320-4f79-8416-bb1b76bf7330",
   "metadata": {},
   "outputs": [
    {
     "name": "stdout",
     "output_type": "stream",
     "text": [
      "0    1\n",
      "1    2\n",
      "2    3\n",
      "3    4\n",
      "dtype: int64\n"
     ]
    }
   ],
   "source": [
    "#series\n",
    "#creating a series from a list\n",
    "my_num=[1,2,3,4]\n",
    "my_series=pd.Series(my_num)\n",
    "print(my_series)"
   ]
  },
  {
   "cell_type": "code",
   "execution_count": 4,
   "id": "337f9925-21b3-4b75-bdf1-9a426690c88d",
   "metadata": {},
   "outputs": [
    {
     "data": {
      "text/plain": [
       "w    1\n",
       "x    2\n",
       "y    3\n",
       "z    4\n",
       "dtype: int64"
      ]
     },
     "execution_count": 4,
     "metadata": {},
     "output_type": "execute_result"
    }
   ],
   "source": [
    "#changing the index of a series\n",
    "my_series=pd.Series([1,2,3,4],index=['w','x','y','z'])\n",
    "my_series"
   ]
  },
  {
   "cell_type": "code",
   "execution_count": 5,
   "id": "8f36af26-b07b-4807-b4e3-cb9005fc4203",
   "metadata": {},
   "outputs": [
    {
     "name": "stdout",
     "output_type": "stream",
     "text": [
      "3\n"
     ]
    }
   ],
   "source": [
    "#calling a value from series\n",
    "print(my_series['y'])"
   ]
  },
  {
   "cell_type": "code",
   "execution_count": 6,
   "id": "b8ee5360-dc46-41c6-9326-5081ac4e8619",
   "metadata": {},
   "outputs": [
    {
     "data": {
      "text/plain": [
       "colour1     black\n",
       "colour2     green\n",
       "colour3      blue\n",
       "colour4    yellow\n",
       "dtype: object"
      ]
     },
     "execution_count": 6,
     "metadata": {},
     "output_type": "execute_result"
    }
   ],
   "source": [
    "#creating a series from dictionary\n",
    "dict={'colour1':'black','colour2':'green','colour3':'blue','colour4':'yellow'}\n",
    "s_dict=pd.Series(dict)\n",
    "s_dict"
   ]
  },
  {
   "cell_type": "code",
   "execution_count": 7,
   "id": "574cf9bc-a95c-4efb-8ed3-7557a0753710",
   "metadata": {},
   "outputs": [
    {
     "data": {
      "text/plain": [
       "'blue'"
      ]
     },
     "execution_count": 7,
     "metadata": {},
     "output_type": "execute_result"
    }
   ],
   "source": [
    "#calling your series from a dictonary\n",
    "s_dict['colour3']"
   ]
  },
  {
   "cell_type": "code",
   "execution_count": 8,
   "id": "2669de20-8c83-4f21-9483-9bbedc4aa5e9",
   "metadata": {},
   "outputs": [
    {
     "data": {
      "text/html": [
       "<div>\n",
       "<style scoped>\n",
       "    .dataframe tbody tr th:only-of-type {\n",
       "        vertical-align: middle;\n",
       "    }\n",
       "\n",
       "    .dataframe tbody tr th {\n",
       "        vertical-align: top;\n",
       "    }\n",
       "\n",
       "    .dataframe thead th {\n",
       "        text-align: right;\n",
       "    }\n",
       "</style>\n",
       "<table border=\"1\" class=\"dataframe\">\n",
       "  <thead>\n",
       "    <tr style=\"text-align: right;\">\n",
       "      <th></th>\n",
       "      <th>cars</th>\n",
       "      <th>colours</th>\n",
       "    </tr>\n",
       "  </thead>\n",
       "  <tbody>\n",
       "    <tr>\n",
       "      <th>0</th>\n",
       "      <td>toyota</td>\n",
       "      <td>grey</td>\n",
       "    </tr>\n",
       "    <tr>\n",
       "      <th>1</th>\n",
       "      <td>benz</td>\n",
       "      <td>black</td>\n",
       "    </tr>\n",
       "    <tr>\n",
       "      <th>2</th>\n",
       "      <td>mustang</td>\n",
       "      <td>dark_blue</td>\n",
       "    </tr>\n",
       "    <tr>\n",
       "      <th>3</th>\n",
       "      <td>lexus</td>\n",
       "      <td>dirty_black</td>\n",
       "    </tr>\n",
       "    <tr>\n",
       "      <th>4</th>\n",
       "      <td>danfo</td>\n",
       "      <td>yellow</td>\n",
       "    </tr>\n",
       "  </tbody>\n",
       "</table>\n",
       "</div>"
      ],
      "text/plain": [
       "      cars      colours\n",
       "0   toyota         grey\n",
       "1     benz        black\n",
       "2  mustang    dark_blue\n",
       "3    lexus  dirty_black\n",
       "4    danfo       yellow"
      ]
     },
     "execution_count": 8,
     "metadata": {},
     "output_type": "execute_result"
    }
   ],
   "source": [
    "#DATAFRAMES are multi_dimensional arrays used to store data in pandas. They can tablate datas.\n",
    "dataframe=pd.DataFrame({'cars':['toyota','benz','mustang','lexus','danfo'],'colours':['grey','black','dark_blue','dirty_black','yellow']})\n",
    "dataframe"
   ]
  },
  {
   "cell_type": "code",
   "execution_count": 9,
   "id": "c9e8f43d-9154-42b4-b4d9-5d95220eb765",
   "metadata": {},
   "outputs": [
    {
     "data": {
      "text/html": [
       "<div>\n",
       "<style scoped>\n",
       "    .dataframe tbody tr th:only-of-type {\n",
       "        vertical-align: middle;\n",
       "    }\n",
       "\n",
       "    .dataframe tbody tr th {\n",
       "        vertical-align: top;\n",
       "    }\n",
       "\n",
       "    .dataframe thead th {\n",
       "        text-align: right;\n",
       "    }\n",
       "</style>\n",
       "<table border=\"1\" class=\"dataframe\">\n",
       "  <thead>\n",
       "    <tr style=\"text-align: right;\">\n",
       "      <th></th>\n",
       "      <th>Names</th>\n",
       "      <th>Mood</th>\n",
       "    </tr>\n",
       "  </thead>\n",
       "  <tbody>\n",
       "    <tr>\n",
       "      <th>0</th>\n",
       "      <td>Austine</td>\n",
       "      <td>Happy</td>\n",
       "    </tr>\n",
       "    <tr>\n",
       "      <th>1</th>\n",
       "      <td>Richard</td>\n",
       "      <td>Not_moody</td>\n",
       "    </tr>\n",
       "    <tr>\n",
       "      <th>2</th>\n",
       "      <td>Femi</td>\n",
       "      <td>Absent</td>\n",
       "    </tr>\n",
       "    <tr>\n",
       "      <th>3</th>\n",
       "      <td>Tobey</td>\n",
       "      <td>sad</td>\n",
       "    </tr>\n",
       "  </tbody>\n",
       "</table>\n",
       "</div>"
      ],
      "text/plain": [
       "     Names       Mood\n",
       "0  Austine      Happy\n",
       "1  Richard  Not_moody\n",
       "2     Femi     Absent\n",
       "3    Tobey        sad"
      ]
     },
     "execution_count": 9,
     "metadata": {},
     "output_type": "execute_result"
    }
   ],
   "source": [
    "#creating a dataframe from multiple series\n",
    "series1=pd.Series(['Austine','Richard','Femi','Tobey'])\n",
    "series2=pd.Series(['Happy','Not_moody','Absent','sad'])\n",
    "frame=pd.DataFrame({'Names':series1,'Mood':series2})\n",
    "frame"
   ]
  },
  {
   "cell_type": "code",
   "execution_count": 10,
   "id": "ceb75434-7e01-454e-b9c6-638e5e19d22f",
   "metadata": {},
   "outputs": [],
   "source": [
    "#exporting your dataframe as csv\n",
    "frame.to_csv('frame.csv')"
   ]
  },
  {
   "cell_type": "code",
   "execution_count": 11,
   "id": "86597454-b0df-408d-b5b9-2bc474109514",
   "metadata": {},
   "outputs": [
    {
     "data": {
      "text/html": [
       "<div>\n",
       "<style scoped>\n",
       "    .dataframe tbody tr th:only-of-type {\n",
       "        vertical-align: middle;\n",
       "    }\n",
       "\n",
       "    .dataframe tbody tr th {\n",
       "        vertical-align: top;\n",
       "    }\n",
       "\n",
       "    .dataframe thead th {\n",
       "        text-align: right;\n",
       "    }\n",
       "</style>\n",
       "<table border=\"1\" class=\"dataframe\">\n",
       "  <thead>\n",
       "    <tr style=\"text-align: right;\">\n",
       "      <th></th>\n",
       "      <th>Year</th>\n",
       "      <th>Product</th>\n",
       "      <th>line</th>\n",
       "      <th>Product.1</th>\n",
       "      <th>type</th>\n",
       "      <th>Product.2</th>\n",
       "      <th>Order</th>\n",
       "      <th>method</th>\n",
       "      <th>type.1</th>\n",
       "      <th>Retailer</th>\n",
       "      <th>country</th>\n",
       "      <th>Revenue</th>\n",
       "    </tr>\n",
       "  </thead>\n",
       "  <tbody>\n",
       "    <tr>\n",
       "      <th>0</th>\n",
       "      <td>2004</td>\n",
       "      <td>Camping</td>\n",
       "      <td>Equipment</td>\n",
       "      <td>Cooking</td>\n",
       "      <td>Gear</td>\n",
       "      <td>TrailChef</td>\n",
       "      <td>Water</td>\n",
       "      <td>Bag</td>\n",
       "      <td>Telephone</td>\n",
       "      <td>United</td>\n",
       "      <td>States</td>\n",
       "      <td>315044.33</td>\n",
       "    </tr>\n",
       "    <tr>\n",
       "      <th>1</th>\n",
       "      <td>2004</td>\n",
       "      <td>Camping</td>\n",
       "      <td>Equipment</td>\n",
       "      <td>Cooking</td>\n",
       "      <td>Gear</td>\n",
       "      <td>TrailChef</td>\n",
       "      <td>Water</td>\n",
       "      <td>Bag</td>\n",
       "      <td>Telephone</td>\n",
       "      <td>Canada</td>\n",
       "      <td>NaN</td>\n",
       "      <td>14313.48</td>\n",
       "    </tr>\n",
       "    <tr>\n",
       "      <th>2</th>\n",
       "      <td>2004</td>\n",
       "      <td>Camping</td>\n",
       "      <td>Equipment</td>\n",
       "      <td>Cooking</td>\n",
       "      <td>Gear</td>\n",
       "      <td>TrailChef</td>\n",
       "      <td>Water</td>\n",
       "      <td>Bag</td>\n",
       "      <td>Telephone</td>\n",
       "      <td>Mexico</td>\n",
       "      <td>NaN</td>\n",
       "      <td>156644.47</td>\n",
       "    </tr>\n",
       "    <tr>\n",
       "      <th>3</th>\n",
       "      <td>2004</td>\n",
       "      <td>Camping</td>\n",
       "      <td>Equipment</td>\n",
       "      <td>Cooking</td>\n",
       "      <td>Gear</td>\n",
       "      <td>TrailChef</td>\n",
       "      <td>Water</td>\n",
       "      <td>Bag</td>\n",
       "      <td>Telephone</td>\n",
       "      <td>venezuela</td>\n",
       "      <td>NaN</td>\n",
       "      <td>59191.72</td>\n",
       "    </tr>\n",
       "    <tr>\n",
       "      <th>4</th>\n",
       "      <td>2004</td>\n",
       "      <td>Camping</td>\n",
       "      <td>Equipment</td>\n",
       "      <td>Cooking</td>\n",
       "      <td>Gear</td>\n",
       "      <td>TrailChef</td>\n",
       "      <td>Water</td>\n",
       "      <td>Bag</td>\n",
       "      <td>Telephone</td>\n",
       "      <td>Japan</td>\n",
       "      <td>NaN</td>\n",
       "      <td>7029.33</td>\n",
       "    </tr>\n",
       "    <tr>\n",
       "      <th>...</th>\n",
       "      <td>...</td>\n",
       "      <td>...</td>\n",
       "      <td>...</td>\n",
       "      <td>...</td>\n",
       "      <td>...</td>\n",
       "      <td>...</td>\n",
       "      <td>...</td>\n",
       "      <td>...</td>\n",
       "      <td>...</td>\n",
       "      <td>...</td>\n",
       "      <td>...</td>\n",
       "      <td>...</td>\n",
       "    </tr>\n",
       "    <tr>\n",
       "      <th>95</th>\n",
       "      <td>2004</td>\n",
       "      <td>Camping</td>\n",
       "      <td>Equipment</td>\n",
       "      <td>Cooking</td>\n",
       "      <td>Gear</td>\n",
       "      <td>TrailChef</td>\n",
       "      <td>Water</td>\n",
       "      <td>Bag</td>\n",
       "      <td>Mail</td>\n",
       "      <td>Finland</td>\n",
       "      <td>NaN</td>\n",
       "      <td>6615.84</td>\n",
       "    </tr>\n",
       "    <tr>\n",
       "      <th>96</th>\n",
       "      <td>2004</td>\n",
       "      <td>Camping</td>\n",
       "      <td>Equipment</td>\n",
       "      <td>Cooking</td>\n",
       "      <td>Gear</td>\n",
       "      <td>TrailChef</td>\n",
       "      <td>Water</td>\n",
       "      <td>Bag</td>\n",
       "      <td>Mail</td>\n",
       "      <td>Denmark</td>\n",
       "      <td>NaN</td>\n",
       "      <td>52613.47</td>\n",
       "    </tr>\n",
       "    <tr>\n",
       "      <th>97</th>\n",
       "      <td>2004</td>\n",
       "      <td>Camping</td>\n",
       "      <td>Equipment</td>\n",
       "      <td>Cooking</td>\n",
       "      <td>Gear</td>\n",
       "      <td>TrailChef</td>\n",
       "      <td>Water</td>\n",
       "      <td>Bag</td>\n",
       "      <td>Mail</td>\n",
       "      <td>France</td>\n",
       "      <td>NaN</td>\n",
       "      <td>41912.85</td>\n",
       "    </tr>\n",
       "    <tr>\n",
       "      <th>98</th>\n",
       "      <td>2004</td>\n",
       "      <td>Camping</td>\n",
       "      <td>Equipment</td>\n",
       "      <td>Cooking</td>\n",
       "      <td>Gear</td>\n",
       "      <td>TrailChef</td>\n",
       "      <td>Water</td>\n",
       "      <td>Bag</td>\n",
       "      <td>Mail</td>\n",
       "      <td>Germany</td>\n",
       "      <td>NaN</td>\n",
       "      <td>59479.91</td>\n",
       "    </tr>\n",
       "    <tr>\n",
       "      <th>99</th>\n",
       "      <td>2004</td>\n",
       "      <td>Camping</td>\n",
       "      <td>Equipment</td>\n",
       "      <td>Cooking</td>\n",
       "      <td>Gear</td>\n",
       "      <td>TrailChef</td>\n",
       "      <td>Water</td>\n",
       "      <td>Bag</td>\n",
       "      <td>Mail</td>\n",
       "      <td>United</td>\n",
       "      <td>Kingdom</td>\n",
       "      <td>156324.28</td>\n",
       "    </tr>\n",
       "  </tbody>\n",
       "</table>\n",
       "<p>100 rows × 12 columns</p>\n",
       "</div>"
      ],
      "text/plain": [
       "    Year  Product       line Product.1  type  Product.2  Order method  \\\n",
       "0   2004  Camping  Equipment   Cooking  Gear  TrailChef  Water    Bag   \n",
       "1   2004  Camping  Equipment   Cooking  Gear  TrailChef  Water    Bag   \n",
       "2   2004  Camping  Equipment   Cooking  Gear  TrailChef  Water    Bag   \n",
       "3   2004  Camping  Equipment   Cooking  Gear  TrailChef  Water    Bag   \n",
       "4   2004  Camping  Equipment   Cooking  Gear  TrailChef  Water    Bag   \n",
       "..   ...      ...        ...       ...   ...        ...    ...    ...   \n",
       "95  2004  Camping  Equipment   Cooking  Gear  TrailChef  Water    Bag   \n",
       "96  2004  Camping  Equipment   Cooking  Gear  TrailChef  Water    Bag   \n",
       "97  2004  Camping  Equipment   Cooking  Gear  TrailChef  Water    Bag   \n",
       "98  2004  Camping  Equipment   Cooking  Gear  TrailChef  Water    Bag   \n",
       "99  2004  Camping  Equipment   Cooking  Gear  TrailChef  Water    Bag   \n",
       "\n",
       "       type.1   Retailer  country    Revenue  \n",
       "0   Telephone     United   States  315044.33  \n",
       "1   Telephone     Canada      NaN   14313.48  \n",
       "2   Telephone     Mexico      NaN  156644.47  \n",
       "3   Telephone  venezuela      NaN   59191.72  \n",
       "4   Telephone      Japan      NaN    7029.33  \n",
       "..        ...        ...      ...        ...  \n",
       "95       Mail    Finland      NaN    6615.84  \n",
       "96       Mail    Denmark      NaN   52613.47  \n",
       "97       Mail     France      NaN   41912.85  \n",
       "98       Mail    Germany      NaN   59479.91  \n",
       "99       Mail     United  Kingdom  156324.28  \n",
       "\n",
       "[100 rows x 12 columns]"
      ]
     },
     "execution_count": 11,
     "metadata": {},
     "output_type": "execute_result"
    }
   ],
   "source": [
    "#importing a dataset/file/dataframe in csv format\n",
    "inside=pd.read_csv('sales.csv')\n",
    "inside"
   ]
  }
 ],
 "metadata": {
  "kernelspec": {
   "display_name": "Python 3 (ipykernel)",
   "language": "python",
   "name": "python3"
  },
  "language_info": {
   "codemirror_mode": {
    "name": "ipython",
    "version": 3
   },
   "file_extension": ".py",
   "mimetype": "text/x-python",
   "name": "python",
   "nbconvert_exporter": "python",
   "pygments_lexer": "ipython3",
   "version": "3.13.0"
  },
  "widgets": {
   "application/vnd.jupyter.widget-state+json": {
    "state": {},
    "version_major": 2,
    "version_minor": 0
   }
  }
 },
 "nbformat": 4,
 "nbformat_minor": 5
}
