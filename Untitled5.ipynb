{
 "cells": [
  {
   "cell_type": "code",
   "execution_count": 7,
   "id": "8f99ab68-1d11-482a-b173-f98f3da3171b",
   "metadata": {},
   "outputs": [
    {
     "name": "stdout",
     "output_type": "stream",
     "text": [
      "Hello Ahmed Tinubu\n"
     ]
    }
   ],
   "source": [
    "#inheritance\n",
    "#parent class\n",
    "class introduce:\n",
    "    def __init__(self,fname,lname):\n",
    "        self.f=fname\n",
    "        self.l=lname\n",
    "    def printname(self):\n",
    "        print(f'Hello {self.f} {self.l}')\n",
    "\n",
    "person1=introduce('Ahmed','Tinubu')\n",
    "person1.printname()"
   ]
  },
  {
   "cell_type": "code",
   "execution_count": 9,
   "id": "d530cc2b-3cd1-486c-9b2a-3ae9b4e4faa9",
   "metadata": {},
   "outputs": [
    {
     "name": "stdout",
     "output_type": "stream",
     "text": [
      "Hello jagaban tpain\n"
     ]
    }
   ],
   "source": [
    "#child class\n",
    "class student(introduce):\n",
    "    pass                  #using pass to inherit\n",
    "\n",
    "x=student('jagaban','tpain')\n",
    "x.printname()"
   ]
  },
  {
   "cell_type": "code",
   "execution_count": 10,
   "id": "6960960f-7d65-437f-ad61-213ec7b7a69d",
   "metadata": {},
   "outputs": [
    {
     "name": "stdout",
     "output_type": "stream",
     "text": [
      "Hello Tobey Richard\n"
     ]
    }
   ],
   "source": [
    "#introducing init function to child class\n",
    "class student(introduce):\n",
    "    def __init__(self,fname,lname):\n",
    "        introduce.__init__(self,fname,lname)\n",
    "\n",
    "y=student('Tobey','Richard')\n",
    "y.printname()"
   ]
  },
  {
   "cell_type": "code",
   "execution_count": 12,
   "id": "5c1c4e7c-b8f4-441c-aaea-afeae5b33412",
   "metadata": {},
   "outputs": [
    {
     "name": "stdout",
     "output_type": "stream",
     "text": [
      "Data-science batch 1\n"
     ]
    }
   ],
   "source": [
    "#introducing super function to child class\n",
    "class student(introduce):\n",
    "    def __init__(self,fname,lname):\n",
    "        super().__init__(fname,lname)\n",
    "        self.batch=\"Data-science batch 1\"\n",
    "\n",
    "z=student('john Doe','Blacklist')\n",
    "print(z.batch)\n",
    "    "
   ]
  },
  {
   "cell_type": "code",
   "execution_count": 16,
   "id": "da42a743-6eee-401a-b814-410560177457",
   "metadata": {},
   "outputs": [
    {
     "name": "stdout",
     "output_type": "stream",
     "text": [
      "Hello Ahmed Tinubu, welcome to Tpain era\n"
     ]
    }
   ],
   "source": [
    "#making your batch an argument and adding another function inside your child class\n",
    "class student(introduce):\n",
    "    def __init__(self,fname,lname,batch):\n",
    "        super().__init__(fname,lname)\n",
    "        self.b=batch\n",
    "    def message(self):\n",
    "        print(f'Hello {self.f} {self.l}, welcome to {self.b}')\n",
    "\n",
    "all=student('Ahmed','Tinubu','Tpain era')\n",
    "all.message()"
   ]
  },
  {
   "cell_type": "code",
   "execution_count": null,
   "id": "65128ac8-3fd3-4b76-88f6-c36b96e5b210",
   "metadata": {},
   "outputs": [],
   "source": []
  },
  {
   "cell_type": "code",
   "execution_count": null,
   "id": "e3f8a850-e852-4bc3-8f8e-7fc9febb3a83",
   "metadata": {},
   "outputs": [],
   "source": []
  }
 ],
 "metadata": {
  "kernelspec": {
   "display_name": "Python 3 (ipykernel)",
   "language": "python",
   "name": "python3"
  },
  "language_info": {
   "codemirror_mode": {
    "name": "ipython",
    "version": 3
   },
   "file_extension": ".py",
   "mimetype": "text/x-python",
   "name": "python",
   "nbconvert_exporter": "python",
   "pygments_lexer": "ipython3",
   "version": "3.13.0"
  },
  "widgets": {
   "application/vnd.jupyter.widget-state+json": {
    "state": {},
    "version_major": 2,
    "version_minor": 0
   }
  }
 },
 "nbformat": 4,
 "nbformat_minor": 5
}
