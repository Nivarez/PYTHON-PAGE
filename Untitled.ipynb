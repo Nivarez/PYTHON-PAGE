{
 "cells": [
  {
   "cell_type": "code",
   "execution_count": 19,
   "id": "01f95457-befd-4dad-b06f-351350861221",
   "metadata": {},
   "outputs": [
    {
     "name": "stdout",
     "output_type": "stream",
     "text": [
      "['Maro']\n",
      "['ThankGod']\n",
      "['Stephen']\n",
      "['Emmanuel']\n"
     ]
    }
   ],
   "source": [
    "Name=[\"Maro\"],[\"ThankGod\"],[\"Stephen\"],[\"Emmanuel\"]\n",
    "for x in Name:\n",
    "    print(x)"
   ]
  },
  {
   "cell_type": "code",
   "execution_count": 21,
   "id": "0192c1ff-a07d-44c0-9f21-2be253a96afc",
   "metadata": {},
   "outputs": [
    {
     "name": "stdout",
     "output_type": "stream",
     "text": [
      "1\n",
      "2\n",
      "3\n",
      "4\n",
      "5\n",
      "6\n",
      "7\n",
      "8\n",
      "9\n",
      "10\n"
     ]
    }
   ],
   "source": [
    "z=range(1,11)\n",
    "for x in z:\n",
    "    print(x)"
   ]
  },
  {
   "cell_type": "code",
   "execution_count": 25,
   "id": "459d4e1d-7cb5-4612-bd5c-fefe29f0a359",
   "metadata": {},
   "outputs": [
    {
     "name": "stdout",
     "output_type": "stream",
     "text": [
      "{'Name': 'Maro', 'Age': '26', 'Hometown': 'Delta'}\n"
     ]
    }
   ],
   "source": [
    "dict={\"Name\":\"Maro\",\"Age\":\"26\",\"Hometown\":\"Delta\"}\n",
    "print(dict)"
   ]
  },
  {
   "cell_type": "code",
   "execution_count": 9,
   "id": "dde5ea31-4965-4ac9-8eb2-cb81a31868f1",
   "metadata": {},
   "outputs": [
    {
     "ename": "SyntaxError",
     "evalue": "invalid syntax (888177686.py, line 3)",
     "output_type": "error",
     "traceback": [
      "\u001b[1;36m  Cell \u001b[1;32mIn[9], line 3\u001b[1;36m\u001b[0m\n\u001b[1;33m    print(\"Maro is present\"):\u001b[0m\n\u001b[1;37m                            ^\u001b[0m\n\u001b[1;31mSyntaxError\u001b[0m\u001b[1;31m:\u001b[0m invalid syntax\n"
     ]
    }
   ],
   "source": [
    "Men_names=(\"Maro\", \"ThankGod\", \"Stephen\", \"Emmanuel\")\n",
    "for i in Men_names:\n",
    "    print(\"Maro is present\"):\n",
    "else:\n",
    "    print(\"Maro is absent\")"
   ]
  },
  {
   "cell_type": "code",
   "execution_count": 36,
   "id": "6782ced2-554f-45fe-a8cb-0e0b0025d466",
   "metadata": {},
   "outputs": [
    {
     "name": "stdout",
     "output_type": "stream",
     "text": [
      "None is greater than each other\n"
     ]
    }
   ],
   "source": [
    "a=95\n",
    "b=95\n",
    "c=95\n",
    "if a>b: print(\"a is greater than b\")\n",
    "elif b>c: print(\"b is greater than c\")\n",
    "elif c>a: print(\"c is greater than a\")\n",
    "else: print(\"None is greater than each other\")    "
   ]
  },
  {
   "cell_type": "code",
   "execution_count": 4,
   "id": "d09bf729-ace5-4319-a888-db974ca331a2",
   "metadata": {},
   "outputs": [],
   "source": [
    "Name=(\"Maro\",\"ThankGod\",\"Stephen\",\"Emmanuel\")\n",
    "for j in Name:\n",
    "    if j == \"Stephen\":\n",
    "        continue\n",
    "        print(\"Hello\",j)\n"
   ]
  },
  {
   "cell_type": "code",
   "execution_count": null,
   "id": "89bad5f6-7c03-44dc-b079-1c6a772de7a1",
   "metadata": {},
   "outputs": [],
   "source": []
  }
 ],
 "metadata": {
  "kernelspec": {
   "display_name": "Python 3 (ipykernel)",
   "language": "python",
   "name": "python3"
  },
  "language_info": {
   "codemirror_mode": {
    "name": "ipython",
    "version": 3
   },
   "file_extension": ".py",
   "mimetype": "text/x-python",
   "name": "python",
   "nbconvert_exporter": "python",
   "pygments_lexer": "ipython3",
   "version": "3.13.0"
  },
  "widgets": {
   "application/vnd.jupyter.widget-state+json": {
    "state": {},
    "version_major": 2,
    "version_minor": 0
   }
  }
 },
 "nbformat": 4,
 "nbformat_minor": 5
}
