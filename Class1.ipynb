{
 "cells": [
  {
   "cell_type": "code",
   "execution_count": 1,
   "id": "aac86f2a-f726-4492-ae88-3c80e9c07e07",
   "metadata": {},
   "outputs": [
    {
     "name": "stdout",
     "output_type": "stream",
     "text": [
      "Hello world!\n"
     ]
    }
   ],
   "source": [
    "#This is our first python class.\n",
    "print('Hello world!')"
   ]
  },
  {
   "cell_type": "code",
   "execution_count": 2,
   "id": "9e9426ae-2d42-4947-a536-7439f85ac972",
   "metadata": {},
   "outputs": [
    {
     "name": "stdout",
     "output_type": "stream",
     "text": [
      "Hello world!\n"
     ]
    }
   ],
   "source": [
    "print(\"Hello world!\")"
   ]
  },
  {
   "cell_type": "code",
   "execution_count": 9,
   "id": "5c0c9e61-cba7-4476-a76f-2256cc51fbbd",
   "metadata": {},
   "outputs": [
    {
     "name": "stdout",
     "output_type": "stream",
     "text": [
      "17\n"
     ]
    }
   ],
   "source": [
    "x=10\n",
    "y=7\n",
    "print(x+y)"
   ]
  },
  {
   "cell_type": "code",
   "execution_count": 4,
   "id": "70f1e187-0209-4e73-990f-52dba8b38d52",
   "metadata": {},
   "outputs": [
    {
     "name": "stdout",
     "output_type": "stream",
     "text": [
      "Hello my name is john doe\n"
     ]
    }
   ],
   "source": [
    "name=\"john doe\"\n",
    "print(\"Hello my name is\", name)"
   ]
  },
  {
   "cell_type": "code",
   "execution_count": 6,
   "id": "14d3501a-5806-4a2f-813b-078d7cc6ad7b",
   "metadata": {},
   "outputs": [
    {
     "name": "stdout",
     "output_type": "stream",
     "text": [
      "Hello my name is john doe\n"
     ]
    }
   ],
   "source": [
    "print(\"Hello my name is \"+name)"
   ]
  },
  {
   "cell_type": "code",
   "execution_count": 7,
   "id": "638c9980-328c-40ae-b25b-e746577c4496",
   "metadata": {},
   "outputs": [
    {
     "name": "stdout",
     "output_type": "stream",
     "text": [
      "11.8\n"
     ]
    }
   ],
   "source": [
    "a=2.5\n",
    "b=9.3\n",
    "sum=a+b\n",
    "print(sum)"
   ]
  },
  {
   "cell_type": "code",
   "execution_count": 8,
   "id": "9cd6aa5c-975a-456d-b300-0ab68c8e6ba1",
   "metadata": {},
   "outputs": [
    {
     "name": "stdout",
     "output_type": "stream",
     "text": [
      "My names are: \n",
      " a b c\n"
     ]
    }
   ],
   "source": [
    "print(\"My names are: \\n a b c\")"
   ]
  },
  {
   "cell_type": "code",
   "execution_count": null,
   "id": "c61a9ce8-743a-4d8f-812b-361870e5d112",
   "metadata": {},
   "outputs": [],
   "source": []
  }
 ],
 "metadata": {
  "kernelspec": {
   "display_name": "Python 3 (ipykernel)",
   "language": "python",
   "name": "python3"
  },
  "language_info": {
   "codemirror_mode": {
    "name": "ipython",
    "version": 3
   },
   "file_extension": ".py",
   "mimetype": "text/x-python",
   "name": "python",
   "nbconvert_exporter": "python",
   "pygments_lexer": "ipython3",
   "version": "3.13.0"
  }
 },
 "nbformat": 4,
 "nbformat_minor": 5
}
