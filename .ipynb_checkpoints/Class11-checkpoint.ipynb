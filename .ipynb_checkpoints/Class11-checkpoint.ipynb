{
 "cells": [
  {
   "cell_type": "code",
   "execution_count": 1,
   "id": "ad418067-6177-414f-b8ca-579ce8ae740f",
   "metadata": {},
   "outputs": [
    {
     "name": "stdout",
     "output_type": "stream",
     "text": [
      "Hello Ahmed Tinubu\n"
     ]
    }
   ],
   "source": [
    "#inheritance\n",
    "#parent class\n",
    "class introduce:\n",
    "    def __init__(self,fname,lname):\n",
    "        self.f=fname\n",
    "        self.l=lname\n",
    "    def printname(self):\n",
    "        print(f'Hello {self.f} {self.l}')\n",
    "\n",
    "person1=introduce('Ahmed','Tinubu')\n",
    "person1.printname()"
   ]
  },
  {
   "cell_type": "code",
   "execution_count": 2,
   "id": "4faddc6e-1d44-452e-a8d8-819718bf11c3",
   "metadata": {},
   "outputs": [
    {
     "name": "stdout",
     "output_type": "stream",
     "text": [
      "Hello jagaban tpain\n"
     ]
    }
   ],
   "source": [
    "#child class\n",
    "class student(introduce):\n",
    "    pass                 #using pass to inherit.\n",
    "x=student('jagaban','tpain')\n",
    "x.printname()"
   ]
  },
  {
   "cell_type": "code",
   "execution_count": 3,
   "id": "2578fe88-a38a-4faf-ab3c-ceffcbf45d73",
   "metadata": {},
   "outputs": [
    {
     "name": "stdout",
     "output_type": "stream",
     "text": [
      "Hello Tobey Richard\n"
     ]
    }
   ],
   "source": [
    "#intoducing init function to child  class\n",
    "class student(introduce):\n",
    "    def __init__(self,fname,lname):\n",
    "        introduce.__init__(self,fname,lname)\n",
    "\n",
    "y=student('Tobey','Richard')\n",
    "y.printname()"
   ]
  },
  {
   "cell_type": "code",
   "execution_count": 4,
   "id": "384e3890-a5e9-4161-aefe-17aa50dd480e",
   "metadata": {},
   "outputs": [
    {
     "name": "stdout",
     "output_type": "stream",
     "text": [
      "Data-science batch 1\n"
     ]
    }
   ],
   "source": [
    "#introducing super function to child class\n",
    "class student(introduce):\n",
    "    def __init__(self,fname,lname):\n",
    "        super().__init__(fname,lname)\n",
    "        self.batch=\"Data-science batch 1\"\n",
    "\n",
    "z=student('john Doe','Blacklist')\n",
    "print(z.batch)"
   ]
  },
  {
   "cell_type": "code",
   "execution_count": 10,
   "id": "f6b1da2e-d45f-4675-8e5a-f14ab84c668b",
   "metadata": {},
   "outputs": [
    {
     "name": "stdout",
     "output_type": "stream",
     "text": [
      "Hello Ahmed Tinubu, Welcome to Tpain era\n"
     ]
    }
   ],
   "source": [
    "#making your batch an argument and adding another function inside your child class\n",
    "class student(introduce):\n",
    "    def __init__(self,fname,lname,batch):\n",
    "        super().__init__(fname,lname)\n",
    "        self.b=batch\n",
    "    def message(self):\n",
    "        print(f'Hello {self.f} {self.l}, Welcome to {self.b}')\n",
    "\n",
    "all=student('Ahmed','Tinubu','Tpain era')\n",
    "all.message()"
   ]
  },
  {
   "cell_type": "code",
   "execution_count": null,
   "id": "4ea0c3d4-c3c2-4e2a-8c30-5c84beea2b51",
   "metadata": {},
   "outputs": [],
   "source": []
  }
 ],
 "metadata": {
  "kernelspec": {
   "display_name": "Python 3 (ipykernel)",
   "language": "python",
   "name": "python3"
  },
  "language_info": {
   "codemirror_mode": {
    "name": "ipython",
    "version": 3
   },
   "file_extension": ".py",
   "mimetype": "text/x-python",
   "name": "python",
   "nbconvert_exporter": "python",
   "pygments_lexer": "ipython3",
   "version": "3.13.0"
  },
  "widgets": {
   "application/vnd.jupyter.widget-state+json": {
    "state": {},
    "version_major": 2,
    "version_minor": 0
   }
  }
 },
 "nbformat": 4,
 "nbformat_minor": 5
}
