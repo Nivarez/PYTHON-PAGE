{
 "cells": [
  {
   "cell_type": "code",
   "execution_count": 1,
   "id": "2ac30f0d-808c-4361-bfea-b2a77da6571a",
   "metadata": {},
   "outputs": [
    {
     "name": "stdout",
     "output_type": "stream",
     "text": [
      "Femi\n",
      "Austine\n",
      "Sheriffdeen\n"
     ]
    }
   ],
   "source": [
    "names=['Femi', 'Austine', 'Sheriffdeen']\n",
    "for x in names:\n",
    "    print(x)"
   ]
  },
  {
   "cell_type": "code",
   "execution_count": 6,
   "id": "1d482786-35c8-4ea2-8a9b-fce3ae704186",
   "metadata": {},
   "outputs": [
    {
     "name": "stdout",
     "output_type": "stream",
     "text": [
      "Femi\n",
      "Austine\n",
      "Sheriffdeen\n"
     ]
    }
   ],
   "source": [
    "names=['Femi', 'Austine', 'Sheriffdeen', 'Tobey']\n",
    "for x in names:\n",
    "    if x=='Tobey':\n",
    "        break\n",
    "    print(x)    "
   ]
  },
  {
   "cell_type": "code",
   "execution_count": 8,
   "id": "dd25b7d2-789f-49bb-9b88-3a4d2a463d2d",
   "metadata": {},
   "outputs": [
    {
     "name": "stdout",
     "output_type": "stream",
     "text": [
      "10\n",
      "5\n"
     ]
    }
   ],
   "source": [
    "numbers=[10,5,-100,0,4]\n",
    "for x in numbers:\n",
    "    if x<0:\n",
    "        break\n",
    "    print(x)"
   ]
  },
  {
   "cell_type": "markdown",
   "id": "0a2664de-34ed-4008-a7c9-a2ec77c88933",
   "metadata": {},
   "source": [
    "# Break Statement"
   ]
  },
  {
   "cell_type": "code",
   "execution_count": 13,
   "id": "0778a2ec-103c-405f-8cd9-074a3c20f534",
   "metadata": {},
   "outputs": [
    {
     "name": "stdout",
     "output_type": "stream",
     "text": [
      "1\n",
      "2\n",
      "3\n",
      "4\n",
      "5\n",
      "6\n",
      "7\n",
      "8\n",
      "9\n",
      "10\n"
     ]
    }
   ],
   "source": [
    "#Break statement stops loop.\n",
    "n=20\n",
    "i=1\n",
    "while i<n:\n",
    "    print(i)\n",
    "    if i>=10:\n",
    "        break\n",
    "    i+=1   \n",
    "    "
   ]
  },
  {
   "cell_type": "code",
   "execution_count": 15,
   "id": "4a04811e-4688-4788-91cf-6f50c4a0db0a",
   "metadata": {},
   "outputs": [
    {
     "name": "stdout",
     "output_type": "stream",
     "text": [
      "1\n",
      "2\n",
      "3\n",
      "4\n"
     ]
    }
   ],
   "source": [
    "i=1\n",
    "while i<10:\n",
    "    print(i)\n",
    "    if i==4:\n",
    "        break\n",
    "    i+=1    "
   ]
  },
  {
   "cell_type": "code",
   "execution_count": null,
   "id": "f81999f3-2e7d-4058-a60f-f1374ce12edb",
   "metadata": {},
   "outputs": [],
   "source": []
  }
 ],
 "metadata": {
  "kernelspec": {
   "display_name": "Python 3 (ipykernel)",
   "language": "python",
   "name": "python3"
  },
  "language_info": {
   "codemirror_mode": {
    "name": "ipython",
    "version": 3
   },
   "file_extension": ".py",
   "mimetype": "text/x-python",
   "name": "python",
   "nbconvert_exporter": "python",
   "pygments_lexer": "ipython3",
   "version": "3.13.0"
  },
  "widgets": {
   "application/vnd.jupyter.widget-state+json": {
    "state": {},
    "version_major": 2,
    "version_minor": 0
   }
  }
 },
 "nbformat": 4,
 "nbformat_minor": 5
}
