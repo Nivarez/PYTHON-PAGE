{
 "cells": [
  {
   "cell_type": "markdown",
   "id": "628223a3-eb20-4063-9047-235b4b26ff42",
   "metadata": {},
   "source": [
    "# Positional arguments"
   ]
  },
  {
   "cell_type": "code",
   "execution_count": 5,
   "id": "a6ac051f-09a9-473b-92c9-29ddd51a9de2",
   "metadata": {},
   "outputs": [],
   "source": [
    "def greetings(name,msg):\n",
    "    print(\"Hello\",name+', '+msg)"
   ]
  },
  {
   "cell_type": "code",
   "execution_count": 6,
   "id": "53527b2f-a3fd-47a9-8ce3-882b5fe0f78f",
   "metadata": {},
   "outputs": [
    {
     "name": "stdout",
     "output_type": "stream",
     "text": [
      "Hello John doe, Good morning\n"
     ]
    }
   ],
   "source": [
    "greetings(\"John doe\", \"Good morning\")"
   ]
  },
  {
   "cell_type": "markdown",
   "id": "733dc832-f3d4-4f7e-a742-01a870479774",
   "metadata": {},
   "source": [
    "# Default args"
   ]
  },
  {
   "cell_type": "code",
   "execution_count": 7,
   "id": "75fd85cb-4e5e-482b-9dcf-94123e2a32aa",
   "metadata": {},
   "outputs": [],
   "source": [
    "#Args\n",
    "def greetings(name,msg='you are welcome'):\n",
    "    print(\"Hello\",name+', '+msg)"
   ]
  },
  {
   "cell_type": "code",
   "execution_count": 8,
   "id": "3cc29828-83b5-4ee4-9690-3c261d8621af",
   "metadata": {},
   "outputs": [
    {
     "name": "stdout",
     "output_type": "stream",
     "text": [
      "Hello John Doe, you are welcome\n"
     ]
    }
   ],
   "source": [
    "greetings('John Doe')"
   ]
  },
  {
   "cell_type": "code",
   "execution_count": 9,
   "id": "fe897cdb-580f-45c1-9799-6cb883ce7dc8",
   "metadata": {},
   "outputs": [
    {
     "name": "stdout",
     "output_type": "stream",
     "text": [
      "Hello John Doe, Thank you\n"
     ]
    }
   ],
   "source": [
    "greetings('John Doe','Thank you')"
   ]
  },
  {
   "cell_type": "markdown",
   "id": "96223d14-3f50-483b-a121-3b83435bbfab",
   "metadata": {},
   "source": [
    "# Keyword args"
   ]
  },
  {
   "cell_type": "code",
   "execution_count": 10,
   "id": "4fe94902-a48f-4fb8-935f-584bf22462f7",
   "metadata": {},
   "outputs": [],
   "source": [
    "#Keyword args. When using a keyword argument, every other args that comes by the right must be a keyword argument.\n",
    "def temp(x,y):\n",
    "    print(\"you are\",x,',',y,'degrees!')"
   ]
  },
  {
   "cell_type": "code",
   "execution_count": 11,
   "id": "e495fa99-c60f-4a94-a69f-1100e13502c5",
   "metadata": {},
   "outputs": [
    {
     "name": "stdout",
     "output_type": "stream",
     "text": [
      "you are Hot , 90 degrees!\n"
     ]
    }
   ],
   "source": [
    "temp(y=90,x=\"Hot\")"
   ]
  },
  {
   "cell_type": "code",
   "execution_count": 12,
   "id": "87290cf4-c143-44a1-8dc1-b31c75ffec4b",
   "metadata": {},
   "outputs": [],
   "source": [
    "#using a positional args and keyword args\n",
    "def pet(name,color=\"white\",breed=\"Dog\"):\n",
    "    print(\"i'am a \"+ breed+', '+ 'and i bare '+name+\" i am also color \"+color)"
   ]
  },
  {
   "cell_type": "code",
   "execution_count": 13,
   "id": "00ecadd7-86db-49bb-b875-ffc296e8cb11",
   "metadata": {},
   "outputs": [
    {
     "name": "stdout",
     "output_type": "stream",
     "text": [
      "i'am a Dog, and i bare jack i am also color white\n"
     ]
    }
   ],
   "source": [
    "pet('jack')"
   ]
  },
  {
   "cell_type": "code",
   "execution_count": 14,
   "id": "d93ed326-c74f-4aa3-a756-c23fe6f9fa6e",
   "metadata": {},
   "outputs": [],
   "source": [
    "def message(name, msg):\n",
    "    print('hey '+name+', '+msg)"
   ]
  },
  {
   "cell_type": "code",
   "execution_count": 15,
   "id": "a49275d8-1e0c-4f8a-899b-f813541358e7",
   "metadata": {},
   "outputs": [
    {
     "name": "stdout",
     "output_type": "stream",
     "text": [
      "hey mike, whatsup?\n"
     ]
    }
   ],
   "source": [
    "message('mike',msg='whatsup?')"
   ]
  },
  {
   "cell_type": "code",
   "execution_count": 16,
   "id": "55270889-1e86-43e3-a113-aa77b1b30822",
   "metadata": {},
   "outputs": [],
   "source": [
    "#abituary args\n",
    "def names(*name):\n",
    "    print(name)"
   ]
  },
  {
   "cell_type": "code",
   "execution_count": 17,
   "id": "43aed3c1-59cb-4ecd-9b37-14217d1ed6fd",
   "metadata": {},
   "outputs": [
    {
     "name": "stdout",
     "output_type": "stream",
     "text": [
      "('Austine', 'Richard', 'Tobey', 'Femi')\n"
     ]
    }
   ],
   "source": [
    "names('Austine','Richard','Tobey','Femi')"
   ]
  },
  {
   "cell_type": "markdown",
   "id": "14a4b93f-f907-4638-9a8a-6834f343faf1",
   "metadata": {},
   "source": [
    "# Classwork"
   ]
  },
  {
   "cell_type": "code",
   "execution_count": 18,
   "id": "5ba2a62f-ed1e-4b48-bbf9-72ec8973d9d1",
   "metadata": {},
   "outputs": [],
   "source": [
    "def area(L,B):\n",
    "    A=L*B\n",
    "    print(\"The area of the rectangle is \",A)"
   ]
  },
  {
   "cell_type": "code",
   "execution_count": 19,
   "id": "1ff71ff1-4e88-43aa-8581-90eee88600de",
   "metadata": {},
   "outputs": [
    {
     "name": "stdout",
     "output_type": "stream",
     "text": [
      "The area of the rectangle is  1000\n"
     ]
    }
   ],
   "source": [
    "area(50,20)"
   ]
  },
  {
   "cell_type": "markdown",
   "id": "25fcba5e-a085-4ce7-a079-19d6a6748f87",
   "metadata": {},
   "source": [
    "# Assignment"
   ]
  },
  {
   "cell_type": "code",
   "execution_count": 23,
   "id": "6caae5fb-553a-4c64-bd0b-92f663af564f",
   "metadata": {},
   "outputs": [],
   "source": [
    "def convert(cel):\n",
    "    f= cel * 9/5 + 32\n",
    "    return f\n"
   ]
  },
  {
   "cell_type": "code",
   "execution_count": 24,
   "id": "8ea103fb-fabe-4a77-b9a9-fc61c1404b58",
   "metadata": {},
   "outputs": [
    {
     "data": {
      "text/plain": [
       "194.0"
      ]
     },
     "execution_count": 24,
     "metadata": {},
     "output_type": "execute_result"
    }
   ],
   "source": [
    "convert(90)"
   ]
  },
  {
   "cell_type": "code",
   "execution_count": null,
   "id": "7f44b0ec-4a77-41f3-9ab7-e289b946d0f0",
   "metadata": {},
   "outputs": [],
   "source": []
  }
 ],
 "metadata": {
  "kernelspec": {
   "display_name": "Python 3 (ipykernel)",
   "language": "python",
   "name": "python3"
  },
  "language_info": {
   "codemirror_mode": {
    "name": "ipython",
    "version": 3
   },
   "file_extension": ".py",
   "mimetype": "text/x-python",
   "name": "python",
   "nbconvert_exporter": "python",
   "pygments_lexer": "ipython3",
   "version": "3.13.0"
  },
  "widgets": {
   "application/vnd.jupyter.widget-state+json": {
    "state": {},
    "version_major": 2,
    "version_minor": 0
   }
  }
 },
 "nbformat": 4,
 "nbformat_minor": 5
}
