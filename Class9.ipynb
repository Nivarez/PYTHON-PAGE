{
 "cells": [
  {
   "cell_type": "markdown",
   "id": "d3aea2a6-e155-46c2-914f-55d96d200f9f",
   "metadata": {},
   "source": [
    "# list"
   ]
  },
  {
   "cell_type": "code",
   "execution_count": 1,
   "id": "4a37d0e0-f6a4-4d7f-9ebe-5e2bf4c9daae",
   "metadata": {},
   "outputs": [
    {
     "name": "stdout",
     "output_type": "stream",
     "text": [
      "hello\n",
      "python\n"
     ]
    }
   ],
   "source": [
    "#list is a datatype that can contain different datatype and are stored in a square bracket. They are also changeable.\n",
    "my_list=['hello',1,20,'python']\n",
    "print(my_list[0])\n",
    "print(my_list[3])"
   ]
  },
  {
   "cell_type": "code",
   "execution_count": 5,
   "id": "9fc02e19-b65b-4fb1-b039-7b93dd5874ce",
   "metadata": {},
   "outputs": [
    {
     "name": "stdout",
     "output_type": "stream",
     "text": [
      "[8, 20, 86]\n",
      "['hello', 1, 20, 'python']\n"
     ]
    }
   ],
   "source": [
    "#nested list\n",
    "nested=[['hello',1,20,'python'],2.6,100,[8,20,86],'John Doe']\n",
    "print(nested[3])\n",
    "print(nested[0])"
   ]
  },
  {
   "cell_type": "code",
   "execution_count": 6,
   "id": "6f1d48f6-876e-474f-93b2-26dbb607e878",
   "metadata": {},
   "outputs": [
    {
     "name": "stdout",
     "output_type": "stream",
     "text": [
      "[2, 4, 6, 8, 10]\n",
      "8\n"
     ]
    }
   ],
   "source": [
    "#slicing of list\n",
    "list=[2,4,6,8,10,12]\n",
    "print(list[:5])\n",
    "#negative indexing\n",
    "print(list[-3]) #to fetch items 8 from behind"
   ]
  },
  {
   "cell_type": "code",
   "execution_count": 10,
   "id": "9e867f2a-a776-4985-9a94-a2dfa4ef9f34",
   "metadata": {},
   "outputs": [
    {
     "data": {
      "text/plain": [
       "[1, 3, 5, 7]"
      ]
     },
     "execution_count": 10,
     "metadata": {},
     "output_type": "execute_result"
    }
   ],
   "source": [
    "# changing a list item\n",
    "odd=[2,4,6,8]\n",
    "odd[0]=1\n",
    "odd\n",
    "# changing multiple list items\n",
    "odd[1:4]=[3,5,7]\n",
    "odd"
   ]
  },
  {
   "cell_type": "code",
   "execution_count": 12,
   "id": "53a907c5-6a70-4d84-a4a9-8f9614b2f4a2",
   "metadata": {},
   "outputs": [
    {
     "name": "stdout",
     "output_type": "stream",
     "text": [
      "['Richard', 'Austine', 'Femi', 'Tobey']\n"
     ]
    }
   ],
   "source": [
    "#adding an item to a list\n",
    "names=['Richard','Austine','Femi']\n",
    "names.append('Tobey')\n",
    "print(names)"
   ]
  },
  {
   "cell_type": "code",
   "execution_count": 14,
   "id": "59349915-f38a-4954-a61c-2ee2c9f7e681",
   "metadata": {},
   "outputs": [
    {
     "name": "stdout",
     "output_type": "stream",
     "text": [
      "[1, 3, 5, 7, 9, 11]\n"
     ]
    }
   ],
   "source": [
    "#adding individual items into a list\n",
    "odd_num=[1,3,5]\n",
    "odd_num.extend([7,9,11])\n",
    "print(odd_num)"
   ]
  },
  {
   "cell_type": "code",
   "execution_count": 20,
   "id": "a76cdf03-32e7-4da0-bd70-f1daed44b19a",
   "metadata": {},
   "outputs": [
    {
     "name": "stdout",
     "output_type": "stream",
     "text": [
      "[2, 4, 6, 8, 10, 12, 14, 16]\n"
     ]
    }
   ],
   "source": [
    "#adding a list using + operator\n",
    "even_num=[2,4,6,8]\n",
    "even_num.extend([10,12,14,16])\n",
    "print(even_num)"
   ]
  },
  {
   "cell_type": "code",
   "execution_count": 24,
   "id": "c61ba6ba-7c04-4230-bf7e-710219a8f833",
   "metadata": {},
   "outputs": [
    {
     "name": "stdout",
     "output_type": "stream",
     "text": [
      "[4, 6, 8, 10, 12, 14]\n"
     ]
    }
   ],
   "source": [
    "#To remove a particular number from the list\n",
    "even_num=[2,4,6,8,10,12,14]\n",
    "even_num.remove(2)\n",
    "print(even_num)"
   ]
  },
  {
   "cell_type": "code",
   "execution_count": 27,
   "id": "3a7506c1-8d87-4a31-999e-aed8bfb14e4e",
   "metadata": {},
   "outputs": [
    {
     "name": "stdout",
     "output_type": "stream",
     "text": [
      "[2, 4, 8, 10, 12, 14]\n"
     ]
    }
   ],
   "source": [
    "#To remove an item using the index number\n",
    "even_num=[2,4,6,8,10,12,14]\n",
    "even_num.pop(2)\n",
    "print(even_num)"
   ]
  },
  {
   "cell_type": "markdown",
   "id": "5fdbc8d8-1826-4431-aa61-71275dc357d3",
   "metadata": {},
   "source": [
    "# Tuple"
   ]
  },
  {
   "cell_type": "code",
   "execution_count": 30,
   "id": "34ef3e70-df32-49f7-8842-60065a66fdb4",
   "metadata": {},
   "outputs": [
    {
     "name": "stdout",
     "output_type": "stream",
     "text": [
      "cold\n"
     ]
    }
   ],
   "source": [
    "# Tuples are datatypes that contains different datatypes. They are unchangeable.\n",
    "tp1=([2,4],100,'cold',25.5)\n",
    "print(tp1[2])"
   ]
  },
  {
   "cell_type": "code",
   "execution_count": 32,
   "id": "76639165-4d08-4348-8fd1-65ed129add49",
   "metadata": {},
   "outputs": [
    {
     "name": "stdout",
     "output_type": "stream",
     "text": [
      "2\n"
     ]
    }
   ],
   "source": [
    "tp2=('a','p','p','l','e')\n",
    "print(tp2.count('p'))"
   ]
  },
  {
   "cell_type": "code",
   "execution_count": 34,
   "id": "d8a80f24-7cf1-41a4-95e5-d61506cbeb87",
   "metadata": {},
   "outputs": [
    {
     "name": "stdout",
     "output_type": "stream",
     "text": [
      "1\n"
     ]
    }
   ],
   "source": [
    "tp2=('a','p','p','l','e')\n",
    "print(tp2.index('p'))"
   ]
  },
  {
   "cell_type": "code",
   "execution_count": 35,
   "id": "cb3eabc1-d6f0-4be4-8cd5-b875a8dc2595",
   "metadata": {},
   "outputs": [
    {
     "name": "stdout",
     "output_type": "stream",
     "text": [
      "True\n",
      "False\n"
     ]
    }
   ],
   "source": [
    "print('a' in tp2)\n",
    "print('b' in tp2)"
   ]
  },
  {
   "cell_type": "code",
   "execution_count": null,
   "id": "22780418-f55f-4d5c-a36b-2bf2f43bf31e",
   "metadata": {},
   "outputs": [],
   "source": []
  }
 ],
 "metadata": {
  "kernelspec": {
   "display_name": "Python 3 (ipykernel)",
   "language": "python",
   "name": "python3"
  },
  "language_info": {
   "codemirror_mode": {
    "name": "ipython",
    "version": 3
   },
   "file_extension": ".py",
   "mimetype": "text/x-python",
   "name": "python",
   "nbconvert_exporter": "python",
   "pygments_lexer": "ipython3",
   "version": "3.13.0"
  },
  "widgets": {
   "application/vnd.jupyter.widget-state+json": {
    "state": {},
    "version_major": 2,
    "version_minor": 0
   }
  }
 },
 "nbformat": 4,
 "nbformat_minor": 5
}
