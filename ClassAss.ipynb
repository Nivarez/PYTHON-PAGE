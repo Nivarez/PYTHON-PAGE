{
 "cells": [
  {
   "cell_type": "markdown",
   "id": "e988516c-9fb2-41d2-97a2-9e1a548a612e",
   "metadata": {},
   "source": [
    "# Classwork"
   ]
  },
  {
   "cell_type": "code",
   "execution_count": 9,
   "id": "8367fd56-2082-4d17-a9da-9e14d0650e4c",
   "metadata": {},
   "outputs": [],
   "source": [
    "#Write a program that calculate the Area of a rectangle\n",
    "def area(L,B):\n",
    "    A=(L*B)\n",
    "    print(\"The area of the rectangle is\",A)\n",
    "    "
   ]
  },
  {
   "cell_type": "code",
   "execution_count": 10,
   "id": "349b694d-1bec-4703-b45d-0d701139b95f",
   "metadata": {},
   "outputs": [
    {
     "name": "stdout",
     "output_type": "stream",
     "text": [
      "The area of the rectangle is 1000\n"
     ]
    }
   ],
   "source": [
    "area(50,20)"
   ]
  },
  {
   "cell_type": "markdown",
   "id": "177f0af1-b8f0-4b2a-9c75-eb0f622be44e",
   "metadata": {},
   "source": [
    "# Assignment"
   ]
  },
  {
   "cell_type": "code",
   "execution_count": 11,
   "id": "dd035dce-57f8-4b06-9a3b-74c571858276",
   "metadata": {},
   "outputs": [],
   "source": [
    "#Write a program that converts celsius to fahrenheit.\n",
    "def convert(cel):\n",
    "    f= cel * 9/5 + 32\n",
    "    return f"
   ]
  },
  {
   "cell_type": "code",
   "execution_count": 12,
   "id": "47be8bd8-ae54-4841-9418-787d131fd6ad",
   "metadata": {},
   "outputs": [
    {
     "data": {
      "text/plain": [
       "212.0"
      ]
     },
     "execution_count": 12,
     "metadata": {},
     "output_type": "execute_result"
    }
   ],
   "source": [
    "convert (100)"
   ]
  },
  {
   "cell_type": "code",
   "execution_count": null,
   "id": "5c303f65-1fe6-4b79-a293-dd5878e9acff",
   "metadata": {},
   "outputs": [],
   "source": []
  }
 ],
 "metadata": {
  "kernelspec": {
   "display_name": "Python 3 (ipykernel)",
   "language": "python",
   "name": "python3"
  },
  "language_info": {
   "codemirror_mode": {
    "name": "ipython",
    "version": 3
   },
   "file_extension": ".py",
   "mimetype": "text/x-python",
   "name": "python",
   "nbconvert_exporter": "python",
   "pygments_lexer": "ipython3",
   "version": "3.13.0"
  },
  "widgets": {
   "application/vnd.jupyter.widget-state+json": {
    "state": {},
    "version_major": 2,
    "version_minor": 0
   }
  }
 },
 "nbformat": 4,
 "nbformat_minor": 5
}
