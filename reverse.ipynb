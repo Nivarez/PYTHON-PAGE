{
 "cells": [
  {
   "cell_type": "code",
   "execution_count": 4,
   "id": "bb246d26-c20f-454a-92f2-bd03ae067a58",
   "metadata": {},
   "outputs": [
    {
     "name": "stdout",
     "output_type": "stream",
     "text": [
      "M\n",
      "a\n",
      "n\n"
     ]
    }
   ],
   "source": [
    "#strings\n",
    "text='Man'\n",
    "for x in text:\n",
    "    print(x)"
   ]
  },
  {
   "cell_type": "code",
   "execution_count": 5,
   "id": "8958b2f7-04f1-4dc6-8bf9-e8d8edc2382c",
   "metadata": {},
   "outputs": [
    {
     "name": "stdout",
     "output_type": "stream",
     "text": [
      "Man_U\n",
      "chelsea\n",
      "liverpool\n"
     ]
    }
   ],
   "source": [
    "#list\n",
    "club=['Man_U','chelsea','liverpool']\n",
    "for x in club:\n",
    "    print(x)"
   ]
  },
  {
   "cell_type": "code",
   "execution_count": 7,
   "id": "608877cb-60c3-4b56-987b-27337539d132",
   "metadata": {},
   "outputs": [
    {
     "name": "stdout",
     "output_type": "stream",
     "text": [
      "sum = 55\n"
     ]
    }
   ],
   "source": [
    "numbers=range(1,11)\n",
    "sum=0\n",
    "for x in numbers:\n",
    "    sum=sum+x\n",
    "print('sum =',sum)    "
   ]
  },
  {
   "cell_type": "code",
   "execution_count": 1,
   "id": "890fa75a-6c46-43d3-a217-01bb3d658eac",
   "metadata": {},
   "outputs": [
    {
     "name": "stdout",
     "output_type": "stream",
     "text": [
      "400\n"
     ]
    }
   ],
   "source": [
    "num1=50\n",
    "num2=350\n",
    "sum=num1+num2\n",
    "print(sum)"
   ]
  },
  {
   "cell_type": "code",
   "execution_count": 2,
   "id": "14a8b3b9-51f9-470d-9b21-948e2bf995a6",
   "metadata": {},
   "outputs": [
    {
     "name": "stdin",
     "output_type": "stream",
     "text": [
      "Enter first number 200\n",
      "Enter second number 800\n"
     ]
    },
    {
     "name": "stdout",
     "output_type": "stream",
     "text": [
      "The sum is:  1000\n"
     ]
    }
   ],
   "source": [
    "num1=int(input(\"Enter first number\"))\n",
    "num2=int(input(\"Enter second number\"))\n",
    "sum=num1+num2\n",
    "print(\"The sum is: \",sum)"
   ]
  },
  {
   "cell_type": "code",
   "execution_count": 3,
   "id": "fa8eebd3-97b1-42c0-b761-faeee7e944a5",
   "metadata": {},
   "outputs": [
    {
     "name": "stdout",
     "output_type": "stream",
     "text": [
      "product result =  280\n"
     ]
    }
   ],
   "source": [
    "#python program to multiply two number\n",
    "num1=18\n",
    "num2=10\n",
    "multiply=num1*num2+100\n",
    "print(\"product result = \",multiply)"
   ]
  },
  {
   "cell_type": "code",
   "execution_count": null,
   "id": "285710d3-2511-4a2c-8c7f-356e47f78d73",
   "metadata": {},
   "outputs": [],
   "source": []
  }
 ],
 "metadata": {
  "kernelspec": {
   "display_name": "Python 3 (ipykernel)",
   "language": "python",
   "name": "python3"
  },
  "language_info": {
   "codemirror_mode": {
    "name": "ipython",
    "version": 3
   },
   "file_extension": ".py",
   "mimetype": "text/x-python",
   "name": "python",
   "nbconvert_exporter": "python",
   "pygments_lexer": "ipython3",
   "version": "3.13.0"
  },
  "widgets": {
   "application/vnd.jupyter.widget-state+json": {
    "state": {},
    "version_major": 2,
    "version_minor": 0
   }
  }
 },
 "nbformat": 4,
 "nbformat_minor": 5
}
