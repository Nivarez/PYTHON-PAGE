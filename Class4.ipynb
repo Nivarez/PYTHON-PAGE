{
 "cells": [
  {
   "cell_type": "markdown",
   "id": "0987a488-27a1-4dfd-b0d5-95b5a08b13ff",
   "metadata": {},
   "source": [
    "# Loops"
   ]
  },
  {
   "cell_type": "code",
   "execution_count": 1,
   "id": "8a5a5196-830e-45cf-a372-dfe83cf0651f",
   "metadata": {},
   "outputs": [
    {
     "name": "stdout",
     "output_type": "stream",
     "text": [
      "loop is easy\n",
      "loop is easy\n",
      "loop is easy\n"
     ]
    }
   ],
   "source": [
    "#while loops\n",
    "n=3\n",
    "i=1\n",
    "while(i<=n):\n",
    "    print('loop is easy')\n",
    "    i+=1"
   ]
  },
  {
   "cell_type": "code",
   "execution_count": null,
   "id": "2b0d3bbd-cddd-4676-b9d5-a6bf5f3a52f4",
   "metadata": {},
   "outputs": [],
   "source": [
    "#infinite loop. Don't run this program because it will keep running till infinity and might crash your system.\n",
    "i=1\n",
    "while(i<=5):\n",
    "    print('i am a loop')\n",
    "    i=1-1"
   ]
  },
  {
   "cell_type": "code",
   "execution_count": 2,
   "id": "563950d0-f857-4cfd-a4c2-d4520216618f",
   "metadata": {},
   "outputs": [
    {
     "name": "stdout",
     "output_type": "stream",
     "text": [
      "The sum is:  55\n"
     ]
    }
   ],
   "source": [
    "i=1\n",
    "sum=0\n",
    "while(i<=10):\n",
    "    sum=sum+i\n",
    "    i=i+1\n",
    "print('The sum is: ',sum)    "
   ]
  },
  {
   "cell_type": "code",
   "execution_count": 2,
   "id": "24447d80-d547-4404-b52b-d2ae7f51adf5",
   "metadata": {},
   "outputs": [
    {
     "name": "stdout",
     "output_type": "stream",
     "text": [
      "loop is fun\n",
      "loop is fun\n",
      "loop is fun\n",
      "loop is fun\n",
      "i am done looping\n"
     ]
    }
   ],
   "source": [
    "i=1\n",
    "while i<=4:\n",
    "    print('loop is fun')\n",
    "    i+=1\n",
    "else:\n",
    "    print('i am done looping')\n"
   ]
  },
  {
   "cell_type": "code",
   "execution_count": 4,
   "id": "befaeff0-290e-4f90-962b-0c625c066242",
   "metadata": {},
   "outputs": [
    {
     "name": "stdout",
     "output_type": "stream",
     "text": [
      "14 x 1 = 14\n",
      "14 x 2 = 28\n",
      "14 x 3 = 42\n",
      "14 x 4 = 56\n",
      "14 x 5 = 70\n",
      "14 x 6 = 84\n",
      "14 x 7 = 98\n",
      "14 x 8 = 112\n",
      "14 x 9 = 126\n",
      "14 x 10 = 140\n",
      "14 x 11 = 154\n",
      "14 x 12 = 168\n"
     ]
    }
   ],
   "source": [
    "#multiplication table loop\n",
    "n=14\n",
    "i=1\n",
    "while(i<=12):\n",
    "    print(n,'x',i,'=',n*i)\n",
    "    i+=1"
   ]
  },
  {
   "cell_type": "markdown",
   "id": "160b92b4-d26d-471d-bffb-0c061d4b37f9",
   "metadata": {},
   "source": [
    "# FOR LOOPS"
   ]
  },
  {
   "cell_type": "code",
   "execution_count": 7,
   "id": "d3400ebb-ce20-4907-871a-3bd235c9658b",
   "metadata": {},
   "outputs": [
    {
     "name": "stdout",
     "output_type": "stream",
     "text": [
      "T\n",
      "h\n",
      "i\n",
      "s\n"
     ]
    }
   ],
   "source": [
    "#FOR LOOPS: They are loop used to iterate through a sequence.\n",
    "#3 Types of For loops \n",
    "#STRING: A string is a sequence of character.\n",
    "#LIST: They are sequence of items seperated by commas inside the square bracket\n",
    "#RANGE: They are used to create a sequence of numbers\n",
    "\n",
    "#for loops\n",
    "#strings\n",
    "text=\"This\"\n",
    "for item in text:\n",
    "    print(item)"
   ]
  },
  {
   "cell_type": "code",
   "execution_count": 8,
   "id": "04340fee-0064-49cc-b076-6194b543470c",
   "metadata": {},
   "outputs": [
    {
     "name": "stdout",
     "output_type": "stream",
     "text": [
      "mau_U\n",
      "liverpool\n",
      "chelsea\n"
     ]
    }
   ],
   "source": [
    "# list\n",
    "club=['mau_U', 'liverpool','chelsea']\n",
    "for x in club:\n",
    "    print(x)"
   ]
  },
  {
   "cell_type": "code",
   "execution_count": 9,
   "id": "be879487-23bb-48bd-9893-11bde41e22ee",
   "metadata": {},
   "outputs": [
    {
     "name": "stdout",
     "output_type": "stream",
     "text": [
      "sum = 55\n"
     ]
    }
   ],
   "source": [
    "#RANGE\n",
    "numbers=range(1,11)\n",
    "sum=0\n",
    "for x in numbers:\n",
    "    sum=sum+x\n",
    "print('sum =',sum)"
   ]
  },
  {
   "cell_type": "code",
   "execution_count": 11,
   "id": "63227498-9944-422f-91cc-5864f9c7580a",
   "metadata": {},
   "outputs": [
    {
     "name": "stdout",
     "output_type": "stream",
     "text": [
      "mau_U\n",
      "liverpool\n",
      "chelsea\n",
      "i am not interested in football\n"
     ]
    }
   ],
   "source": [
    "#else in for loop\n",
    "club=['mau_U', 'liverpool','chelsea']\n",
    "for x in club:\n",
    "    print(x)\n",
    "else:\n",
    "    print('i am not interested in football')"
   ]
  },
  {
   "cell_type": "code",
   "execution_count": null,
   "id": "2e0bd05d-d6d4-4fb3-8a13-531a1466c2a8",
   "metadata": {},
   "outputs": [],
   "source": []
  }
 ],
 "metadata": {
  "kernelspec": {
   "display_name": "Python 3 (ipykernel)",
   "language": "python",
   "name": "python3"
  },
  "language_info": {
   "codemirror_mode": {
    "name": "ipython",
    "version": 3
   },
   "file_extension": ".py",
   "mimetype": "text/x-python",
   "name": "python",
   "nbconvert_exporter": "python",
   "pygments_lexer": "ipython3",
   "version": "3.13.0"
  },
  "widgets": {
   "application/vnd.jupyter.widget-state+json": {
    "state": {},
    "version_major": 2,
    "version_minor": 0
   }
  }
 },
 "nbformat": 4,
 "nbformat_minor": 5
}
