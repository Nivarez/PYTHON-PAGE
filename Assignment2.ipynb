{
 "cells": [
  {
   "cell_type": "code",
   "execution_count": 2,
   "id": "d0eea4e3-fda1-42fc-aadb-cf56d8a6b5a3",
   "metadata": {},
   "outputs": [
    {
     "name": "stdout",
     "output_type": "stream",
     "text": [
      "Enter a preffered operation: \n"
     ]
    },
    {
     "name": "stdin",
     "output_type": "stream",
     "text": [
      "operator +,-,*,/: *\n",
      "Enter your first number 5\n",
      "Enter your second number 5\n"
     ]
    },
    {
     "name": "stdout",
     "output_type": "stream",
     "text": [
      "5.0 * 5.0 = 25\n"
     ]
    }
   ],
   "source": [
    "print(\"Enter a preffered operation: \")\n",
    "operator=input('operator +,-,*,/:')\n",
    "a1= float(input('Enter your first number'))\n",
    "a2=float(input('Enter your second number'))\n",
    "if operator=='+':\n",
    "    sum=int(a1+a2)\n",
    "    print(a1,operator,a2,'=',sum)\n",
    "elif operator=='-':\n",
    "    subtract=int(a1-a2)\n",
    "    print(a1,operator,a2,'=',subtract)\n",
    "elif operator=='*':\n",
    "    multiply=int(a1*a2)\n",
    "    print(a1,operator,a2,'=',multiply)\n",
    "else:\n",
    "    divide=int(a1/a2)\n",
    "    print(a1,operator,a2,'=',divide)\n",
    "\n",
    "\n"
   ]
  },
  {
   "cell_type": "code",
   "execution_count": null,
   "id": "dc764dce-9da9-4d7b-b5ad-001e86b5674b",
   "metadata": {},
   "outputs": [],
   "source": []
  }
 ],
 "metadata": {
  "kernelspec": {
   "display_name": "Python 3 (ipykernel)",
   "language": "python",
   "name": "python3"
  },
  "language_info": {
   "codemirror_mode": {
    "name": "ipython",
    "version": 3
   },
   "file_extension": ".py",
   "mimetype": "text/x-python",
   "name": "python",
   "nbconvert_exporter": "python",
   "pygments_lexer": "ipython3",
   "version": "3.13.0"
  },
  "widgets": {
   "application/vnd.jupyter.widget-state+json": {
    "state": {},
    "version_major": 2,
    "version_minor": 0
   }
  }
 },
 "nbformat": 4,
 "nbformat_minor": 5
}
