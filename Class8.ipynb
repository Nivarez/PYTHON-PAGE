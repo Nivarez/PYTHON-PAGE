{
 "cells": [
  {
   "cell_type": "code",
   "execution_count": 1,
   "id": "7033bd32-0033-451f-8fa1-cd067c21bbd3",
   "metadata": {},
   "outputs": [
    {
     "data": {
      "text/plain": [
       "20"
      ]
     },
     "execution_count": 1,
     "metadata": {},
     "output_type": "execute_result"
    }
   ],
   "source": [
    "#Anonymous function\n",
    "anonymous=lambda X:X*2\n",
    "anonymous(10)"
   ]
  },
  {
   "cell_type": "code",
   "execution_count": 2,
   "id": "1448ba5e-89bd-429a-8d3d-69b23e7775df",
   "metadata": {},
   "outputs": [
    {
     "data": {
      "text/plain": [
       "20"
      ]
     },
     "execution_count": 2,
     "metadata": {},
     "output_type": "execute_result"
    }
   ],
   "source": [
    "#Another method\n",
    "def square(x):\n",
    "    return x*2\n",
    "square(10)    "
   ]
  },
  {
   "cell_type": "code",
   "execution_count": 3,
   "id": "f94e7e72-0eeb-4bd5-a8db-ae3e088e5e15",
   "metadata": {},
   "outputs": [
    {
     "name": "stdout",
     "output_type": "stream",
     "text": [
      "The cube is 64\n"
     ]
    }
   ],
   "source": [
    "cube=lambda n:n**3\n",
    "print(f'The cube is {cube(4)}')"
   ]
  },
  {
   "cell_type": "code",
   "execution_count": 5,
   "id": "bfcd5b09-65db-4c5e-831d-8f95f589229b",
   "metadata": {},
   "outputs": [
    {
     "data": {
      "text/plain": [
       "60"
      ]
     },
     "execution_count": 5,
     "metadata": {},
     "output_type": "execute_result"
    }
   ],
   "source": [
    "# multiple labda argument\n",
    "multiple= lambda a,b,c: a+b+c\n",
    "multiple(10,20,30)"
   ]
  },
  {
   "cell_type": "code",
   "execution_count": 6,
   "id": "195060af-17d5-4f46-a877-164acd0363cd",
   "metadata": {},
   "outputs": [
    {
     "name": "stdout",
     "output_type": "stream",
     "text": [
      "100\n",
      "1000\n"
     ]
    }
   ],
   "source": [
    "# using lambda inside a function\n",
    "def func (n):\n",
    "    return lambda x:x**n\n",
    "square=func(2)\n",
    "cube=func(3)\n",
    "print(square(10))\n",
    "print(cube(10))"
   ]
  },
  {
   "cell_type": "markdown",
   "id": "088e3043-18b6-4409-b85f-cbb16c53c19c",
   "metadata": {},
   "source": [
    "# Recursion"
   ]
  },
  {
   "cell_type": "code",
   "execution_count": 10,
   "id": "e57af30b-dcc7-4894-9607-2e49aae06d70",
   "metadata": {},
   "outputs": [
    {
     "name": "stdout",
     "output_type": "stream",
     "text": [
      "15\n",
      "6\n"
     ]
    }
   ],
   "source": [
    "# recursion\n",
    "def calc_sum(x):\n",
    "    if x==1:\n",
    "        return 1\n",
    "    else:\n",
    "        return x+calc_sum(x-1)\n",
    "\n",
    "#using the function\n",
    "print(calc_sum(5))\n",
    "print(calc_sum(3))"
   ]
  },
  {
   "cell_type": "markdown",
   "id": "ab68d6c2-b171-4e0a-925f-d9e4ea870ffa",
   "metadata": {},
   "source": [
    "# factoral resursion Classwork"
   ]
  },
  {
   "cell_type": "code",
   "execution_count": 16,
   "id": "a6655c0e-8eb8-4559-bed3-cd0ab506c625",
   "metadata": {},
   "outputs": [
    {
     "name": "stdout",
     "output_type": "stream",
     "text": [
      "120\n",
      "1\n"
     ]
    }
   ],
   "source": [
    "def calc_sum(x):\n",
    "    if x==0:\n",
    "        return 1\n",
    "    else:\n",
    "        return x*calc_sum(x-1)\n",
    "\n",
    "print(calc_sum(5))\n",
    "print(calc_sum(1))"
   ]
  },
  {
   "cell_type": "code",
   "execution_count": null,
   "id": "e3659cde-732c-45e2-8608-31a5afd9409e",
   "metadata": {},
   "outputs": [],
   "source": []
  }
 ],
 "metadata": {
  "kernelspec": {
   "display_name": "Python 3 (ipykernel)",
   "language": "python",
   "name": "python3"
  },
  "language_info": {
   "codemirror_mode": {
    "name": "ipython",
    "version": 3
   },
   "file_extension": ".py",
   "mimetype": "text/x-python",
   "name": "python",
   "nbconvert_exporter": "python",
   "pygments_lexer": "ipython3",
   "version": "3.13.0"
  },
  "widgets": {
   "application/vnd.jupyter.widget-state+json": {
    "state": {},
    "version_major": 2,
    "version_minor": 0
   }
  }
 },
 "nbformat": 4,
 "nbformat_minor": 5
}
