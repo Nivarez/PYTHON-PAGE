{
 "cells": [
  {
   "cell_type": "code",
   "execution_count": 47,
   "id": "6e93b3ac-8f41-4295-b7f9-9a4afe91670a",
   "metadata": {},
   "outputs": [
    {
     "name": "stdin",
     "output_type": "stream",
     "text": [
      "Enter first_num 500\n",
      "Enter second_num 500\n"
     ]
    },
    {
     "name": "stdout",
     "output_type": "stream",
     "text": [
      "The sum of both numbers is:  1000.0\n"
     ]
    }
   ],
   "source": [
    "num1=float(input(\"Enter first_num\"))\n",
    "num2=float(input(\"Enter second_num\"))\n",
    "sum= num1 + num2\n",
    "print(\"The sum of both numbers is: \",sum)"
   ]
  },
  {
   "cell_type": "code",
   "execution_count": 50,
   "id": "f9468b71-a6b8-4ecc-986c-8014c951bf4a",
   "metadata": {},
   "outputs": [
    {
     "name": "stdin",
     "output_type": "stream",
     "text": [
      "Enter first_num 500\n",
      "Enter second_num 500\n"
     ]
    },
    {
     "name": "stdout",
     "output_type": "stream",
     "text": [
      "None is greater\n"
     ]
    }
   ],
   "source": [
    "n1=float(input(\"Enter first_num\"))\n",
    "n2=float(input(\"Enter second_num\"))\n",
    "if n1>n2:\n",
    "    print(n1)\n",
    "elif n2>n1:\n",
    "    print(n2)\n",
    "else:\n",
    "    print('None is greater')"
   ]
  },
  {
   "cell_type": "code",
   "execution_count": 4,
   "id": "67ef6776-7433-44a0-885b-a1228e09a27b",
   "metadata": {},
   "outputs": [
    {
     "name": "stdout",
     "output_type": "stream",
     "text": [
      "0\n",
      "1\n",
      "2\n",
      "3\n",
      "4\n",
      "5\n",
      "6\n",
      "7\n",
      "8\n",
      "9\n",
      "10\n",
      "11\n",
      "12\n",
      "13\n",
      "14\n",
      "15\n",
      "16\n",
      "17\n",
      "18\n",
      "19\n",
      "20\n"
     ]
    }
   ],
   "source": [
    "p= range(21)\n",
    "for i in p:\n",
    "    print(i)"
   ]
  },
  {
   "cell_type": "code",
   "execution_count": null,
   "id": "d148c315-c48f-431c-a768-e623a8eb27d3",
   "metadata": {},
   "outputs": [],
   "source": []
  }
 ],
 "metadata": {
  "kernelspec": {
   "display_name": "Python 3 (ipykernel)",
   "language": "python",
   "name": "python3"
  },
  "language_info": {
   "codemirror_mode": {
    "name": "ipython",
    "version": 3
   },
   "file_extension": ".py",
   "mimetype": "text/x-python",
   "name": "python",
   "nbconvert_exporter": "python",
   "pygments_lexer": "ipython3",
   "version": "3.13.0"
  },
  "widgets": {
   "application/vnd.jupyter.widget-state+json": {
    "state": {},
    "version_major": 2,
    "version_minor": 0
   }
  }
 },
 "nbformat": 4,
 "nbformat_minor": 5
}
