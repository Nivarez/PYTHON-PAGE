{
 "cells": [
  {
   "cell_type": "code",
   "execution_count": 1,
   "id": "fd11d8f7-0db5-424f-b9d0-706578b9c23a",
   "metadata": {},
   "outputs": [],
   "source": [
    "#primitive datatypes\n",
    "#integer\n",
    "#float\n",
    "#string\n",
    "#boolean\n",
    "#complex number x=8+3j"
   ]
  },
  {
   "cell_type": "code",
   "execution_count": 2,
   "id": "d9bf5788-20ba-4158-a219-29160e8b7d96",
   "metadata": {},
   "outputs": [],
   "source": [
    "#non primitive datatypes\n",
    "##dictionary\n",
    "#set\n",
    "#list\n",
    "#tupples"
   ]
  },
  {
   "cell_type": "code",
   "execution_count": 3,
   "id": "bda4114c-1e60-4b8f-a2af-67b4689c0402",
   "metadata": {},
   "outputs": [
    {
     "name": "stdout",
     "output_type": "stream",
     "text": [
      "80.0\n",
      "23\n",
      "(35+0j)\n"
     ]
    }
   ],
   "source": [
    "#converting datatypes\n",
    "w=80\n",
    "x=23.5\n",
    "y=35\n",
    "z=30.7j\n",
    "\n",
    "a=float(w)\n",
    "b=int(x)\n",
    "c=complex(y)\n",
    "\n",
    "print(a)\n",
    "print(b)\n",
    "print(c)"
   ]
  },
  {
   "cell_type": "code",
   "execution_count": 4,
   "id": "33ae23b3-f1c4-4baf-93ca-2528d8488157",
   "metadata": {},
   "outputs": [
    {
     "name": "stdout",
     "output_type": "stream",
     "text": [
      "80.0 <class 'float'>\n",
      "23 <class 'int'>\n",
      "(35+0j) <class 'complex'>\n"
     ]
    }
   ],
   "source": [
    "#Type\n",
    "#Type is used to know the datatype\n",
    "print (a, type(a))\n",
    "print (b, type(b))\n",
    "print (c, type(c))"
   ]
  },
  {
   "cell_type": "code",
   "execution_count": 5,
   "id": "33b45292-6ed3-4034-83db-92cd08a73bed",
   "metadata": {},
   "outputs": [
    {
     "name": "stdout",
     "output_type": "stream",
     "text": [
      "Hello, this is my second class,\n",
      "and it is easier!\n",
      "unlike java.\n"
     ]
    }
   ],
   "source": [
    "#string\n",
    "#string can be used to comment\n",
    "a=\"\"\"Hello, this is my second class,\n",
    "and it is easier!\n",
    "unlike java.\"\"\"\n",
    "print(a)"
   ]
  },
  {
   "cell_type": "code",
   "execution_count": 6,
   "id": "ea43907e-98d3-42f5-b525-1df15b1de993",
   "metadata": {},
   "outputs": [
    {
     "name": "stdout",
     "output_type": "stream",
     "text": [
      "a\n"
     ]
    }
   ],
   "source": [
    "#index\n",
    "#index represent the value of a string\n",
    "value=\"we are less in class today\"\n",
    "get_value=value[3]\n",
    "print(get_value)"
   ]
  },
  {
   "cell_type": "code",
   "execution_count": 6,
   "id": "68577ea3-823c-47d5-a205-9682734a3f8e",
   "metadata": {},
   "outputs": [
    {
     "name": "stdout",
     "output_type": "stream",
     "text": [
      "i\n"
     ]
    }
   ],
   "source": [
    "value=\"we are less in class today\"\n",
    "get_value=value[12]\n",
    "print(get_value)"
   ]
  },
  {
   "cell_type": "code",
   "execution_count": 7,
   "id": "66bc6da5-3728-4f75-a11e-87e5775e06af",
   "metadata": {},
   "outputs": [
    {
     "name": "stdout",
     "output_type": "stream",
     "text": [
      "we're less in class today\n"
     ]
    }
   ],
   "source": [
    "#a quote inside a quote\n",
    "#The string must be inside a doublr quote\n",
    "value=\"we're less in class today\"\n",
    "print(value)"
   ]
  },
  {
   "cell_type": "code",
   "execution_count": 8,
   "id": "e09b7dc8-644d-4868-a1d8-58b3e35185a2",
   "metadata": {},
   "outputs": [
    {
     "name": "stdout",
     "output_type": "stream",
     "text": [
      "i am \"Hungry\"\n"
     ]
    }
   ],
   "source": [
    "notice='i am \"Hungry\"'\n",
    "print(notice)"
   ]
  },
  {
   "cell_type": "code",
   "execution_count": null,
   "id": "9851eb9e-745f-4f71-92e1-3c6eabede3b0",
   "metadata": {},
   "outputs": [],
   "source": [
    "notice='i am \"\\Hungry\"\n",
    "print(notice)"
   ]
  },
  {
   "cell_type": "code",
   "execution_count": 12,
   "id": "0a4b9fbe-4d9f-4e1d-8581-1f29b056b84c",
   "metadata": {},
   "outputs": [
    {
     "name": "stdout",
     "output_type": "stream",
     "text": [
      "around\n"
     ]
    }
   ],
   "source": [
    "#slicing [start_index:end_index]\n",
    "start=\"we started this class around 9am\"\n",
    "get_string=start[22:28]\n",
    "print(get_string)"
   ]
  },
  {
   "cell_type": "code",
   "execution_count": 13,
   "id": "474af41e-329b-4796-95f1-f5dec784ca69",
   "metadata": {},
   "outputs": [
    {
     "name": "stdout",
     "output_type": "stream",
     "text": [
      "class\n"
     ]
    }
   ],
   "source": [
    "start=\"we started this class around 9am\"\n",
    "get_string=start[16:21]\n",
    "print(get_string)"
   ]
  },
  {
   "cell_type": "code",
   "execution_count": 14,
   "id": "5fe40698-9ef6-420a-9172-c5315fe7e6d3",
   "metadata": {},
   "outputs": [
    {
     "name": "stdout",
     "output_type": "stream",
     "text": [
      "we started this class\n"
     ]
    }
   ],
   "source": [
    "start=\"we started this class around 9am\"\n",
    "get_string=start[:21]\n",
    "print(get_string)"
   ]
  },
  {
   "cell_type": "code",
   "execution_count": 8,
   "id": "79aa5d25-de6f-4f1e-b1cd-6892aab9cade",
   "metadata": {},
   "outputs": [
    {
     "name": "stdout",
     "output_type": "stream",
     "text": [
      "started this class around 9am\n"
     ]
    }
   ],
   "source": [
    "start=\"we started this class around 9am\"\n",
    "get_string=start[3:]\n",
    "print(get_string)"
   ]
  },
  {
   "cell_type": "code",
   "execution_count": 10,
   "id": "ff6c9307-b15e-43f7-a9e9-80076e93add4",
   "metadata": {},
   "outputs": [
    {
     "name": "stdout",
     "output_type": "stream",
     "text": [
      "around 9am\n"
     ]
    }
   ],
   "source": [
    "#negative slicing\n",
    "start=\"we started this class around 9am\"\n",
    "get_string=start[-10:]\n",
    "print(get_string)"
   ]
  },
  {
   "cell_type": "code",
   "execution_count": 18,
   "id": "f46a870a-5ee3-4efb-a047-8cfd1361aafb",
   "metadata": {},
   "outputs": [
    {
     "name": "stdout",
     "output_type": "stream",
     "text": [
      "around\n"
     ]
    }
   ],
   "source": [
    "start=\"we started this class around 9am\"\n",
    "get_string=start[-10:-4]\n",
    "print(get_string)"
   ]
  },
  {
   "cell_type": "code",
   "execution_count": 11,
   "id": "cdd7f350-303b-4a55-9c9a-4341a569c52f",
   "metadata": {},
   "outputs": [
    {
     "name": "stdout",
     "output_type": "stream",
     "text": [
      "32\n"
     ]
    }
   ],
   "source": [
    "#len() :it is used to count the number of strings in a variable\n",
    "word=\"we started this class around 9am\"\n",
    "lenght=len(word)\n",
    "print(lenght)"
   ]
  },
  {
   "cell_type": "code",
   "execution_count": 12,
   "id": "aa2e0a22-9c06-439b-b7d5-dae5e450f2a6",
   "metadata": {},
   "outputs": [
    {
     "name": "stdout",
     "output_type": "stream",
     "text": [
      "RICHARD FEELS HE'S A LEGEND\n",
      "we agree with him\n"
     ]
    }
   ],
   "source": [
    "#upper() and lower() :it hepls us convert the case of string\n",
    "lower_case=\"richard feels he's a legend\"\n",
    "upper_case=\"WE AGREE WITH HIM\"\n",
    "print(lower_case.upper())\n",
    "print(upper_case.lower())"
   ]
  },
  {
   "cell_type": "code",
   "execution_count": 22,
   "id": "4c033787-22f5-44ea-aee0-92461e12559e",
   "metadata": {},
   "outputs": [
    {
     "name": "stdout",
     "output_type": "stream",
     "text": [
      "Austine feels he's a legend\n"
     ]
    }
   ],
   "source": [
    "#replace() : it allows us replace one string with another\n",
    "text=\"richard feels he's a legend\"\n",
    "print(text.replace(\"richard\",\"Austine\"))"
   ]
  },
  {
   "cell_type": "code",
   "execution_count": null,
   "id": "584e5d0e-8723-47c1-b84d-2fb421294cb8",
   "metadata": {},
   "outputs": [],
   "source": []
  }
 ],
 "metadata": {
  "kernelspec": {
   "display_name": "Python 3 (ipykernel)",
   "language": "python",
   "name": "python3"
  },
  "language_info": {
   "codemirror_mode": {
    "name": "ipython",
    "version": 3
   },
   "file_extension": ".py",
   "mimetype": "text/x-python",
   "name": "python",
   "nbconvert_exporter": "python",
   "pygments_lexer": "ipython3",
   "version": "3.13.0"
  },
  "widgets": {
   "application/vnd.jupyter.widget-state+json": {
    "state": {},
    "version_major": 2,
    "version_minor": 0
   }
  }
 },
 "nbformat": 4,
 "nbformat_minor": 5
}
