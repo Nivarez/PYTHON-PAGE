{
 "cells": [
  {
   "cell_type": "code",
   "execution_count": 13,
   "id": "dbb85fcd-3b85-4420-a1fd-761281693311",
   "metadata": {},
   "outputs": [],
   "source": [
    "class car:\n",
    "    type='lambogini'"
   ]
  },
  {
   "cell_type": "code",
   "execution_count": 15,
   "id": "84189cec-95a0-4c69-833e-cb73ab7ce968",
   "metadata": {},
   "outputs": [
    {
     "name": "stdout",
     "output_type": "stream",
     "text": [
      "lambogini\n"
     ]
    }
   ],
   "source": [
    "car()\n",
    "print(car.type)"
   ]
  },
  {
   "cell_type": "code",
   "execution_count": null,
   "id": "6766e00d-c3b9-4017-b6f0-86af2c647a20",
   "metadata": {},
   "outputs": [],
   "source": []
  }
 ],
 "metadata": {
  "kernelspec": {
   "display_name": "Python 3 (ipykernel)",
   "language": "python",
   "name": "python3"
  },
  "language_info": {
   "codemirror_mode": {
    "name": "ipython",
    "version": 3
   },
   "file_extension": ".py",
   "mimetype": "text/x-python",
   "name": "python",
   "nbconvert_exporter": "python",
   "pygments_lexer": "ipython3",
   "version": "3.13.0"
  },
  "widgets": {
   "application/vnd.jupyter.widget-state+json": {
    "state": {},
    "version_major": 2,
    "version_minor": 0
   }
  }
 },
 "nbformat": 4,
 "nbformat_minor": 5
}
