{
 "cells": [
  {
   "cell_type": "markdown",
   "id": "a2033ba6-268d-4686-988a-f3f9ebad7b06",
   "metadata": {},
   "source": [
    "# Variable Scope"
   ]
  },
  {
   "cell_type": "code",
   "execution_count": 3,
   "id": "8b604044-43f8-47af-8b9b-62da45b40d0b",
   "metadata": {},
   "outputs": [
    {
     "name": "stdout",
     "output_type": "stream",
     "text": [
      "This is inside my function 10\n",
      "This is outside my funtion 20\n"
     ]
    }
   ],
   "source": [
    "def scope():\n",
    "    x=10\n",
    "    print(\"This is inside my function\", x)\n",
    "\n",
    "x=20\n",
    "scope()\n",
    "print(\"This is outside my funtion\", x)"
   ]
  },
  {
   "cell_type": "code",
   "execution_count": 4,
   "id": "a0d1eebd-a0c6-486f-b08c-52c7395f8db0",
   "metadata": {},
   "outputs": [
    {
     "name": "stdout",
     "output_type": "stream",
     "text": [
      "20\n"
     ]
    }
   ],
   "source": [
    "def scope():\n",
    "    x=10\n",
    "    print(\"This is inside my function\", x)\n",
    "\n",
    "x=20\n",
    "print(x)"
   ]
  },
  {
   "cell_type": "markdown",
   "id": "6918e10f-b482-4478-bdef-bb2c68010207",
   "metadata": {},
   "source": [
    "# Return"
   ]
  },
  {
   "cell_type": "code",
   "execution_count": 5,
   "id": "f351c58f-625a-4254-bd56-f8fb249cb3a8",
   "metadata": {},
   "outputs": [
    {
     "data": {
      "text/plain": [
       "('John', 'Doe')"
      ]
     },
     "execution_count": 5,
     "metadata": {},
     "output_type": "execute_result"
    }
   ],
   "source": [
    "#Return stops your block of code in a function and it does not take concatinations.\n",
    "def full_name(name1, name2):\n",
    "    return name1,name2\n",
    "\n",
    "full_name('John','Doe')"
   ]
  },
  {
   "cell_type": "code",
   "execution_count": 6,
   "id": "df138487-3454-4905-b51e-877446244284",
   "metadata": {},
   "outputs": [
    {
     "data": {
      "text/plain": [
       "2024"
      ]
     },
     "execution_count": 6,
     "metadata": {},
     "output_type": "execute_result"
    }
   ],
   "source": [
    "def num(n1,n2):\n",
    "    return n1+n2\n",
    "\n",
    "num(2000,24)"
   ]
  },
  {
   "cell_type": "code",
   "execution_count": 8,
   "id": "3e209df0-58cb-4aaa-bfcd-a1410ecdfe54",
   "metadata": {},
   "outputs": [
    {
     "name": "stdout",
     "output_type": "stream",
     "text": [
      "20\n",
      "500\n",
      "10\n"
     ]
    }
   ],
   "source": [
    "def absolute_value(x):\n",
    "    if x>=0:\n",
    "        return x\n",
    "    else:\n",
    "        return -x\n",
    "\n",
    "#using the function:\n",
    "print(absolute_value(20))\n",
    "print(absolute_value(500))\n",
    "print(absolute_value(-10))"
   ]
  },
  {
   "cell_type": "code",
   "execution_count": null,
   "id": "930e35f4-1f30-4c0b-a4fb-aa9e45c59365",
   "metadata": {},
   "outputs": [],
   "source": []
  }
 ],
 "metadata": {
  "kernelspec": {
   "display_name": "Python 3 (ipykernel)",
   "language": "python",
   "name": "python3"
  },
  "language_info": {
   "codemirror_mode": {
    "name": "ipython",
    "version": 3
   },
   "file_extension": ".py",
   "mimetype": "text/x-python",
   "name": "python",
   "nbconvert_exporter": "python",
   "pygments_lexer": "ipython3",
   "version": "3.13.0"
  },
  "widgets": {
   "application/vnd.jupyter.widget-state+json": {
    "state": {},
    "version_major": 2,
    "version_minor": 0
   }
  }
 },
 "nbformat": 4,
 "nbformat_minor": 5
}
