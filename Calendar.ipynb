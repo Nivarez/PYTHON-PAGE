{
 "cells": [
  {
   "cell_type": "raw",
   "id": "625aa7f7-4949-490f-b0af-aea1cad04a75",
   "metadata": {},
   "source": [
    "from calendar import TextCalendar\n",
    "year = int(input('Enter Year:'))\n",
    "cal = TextCalendar()\n",
    "print(cal.formatyear(year, 2, 1, 8, 3))\n",
    "Enter Year: 2025\n"
   ]
  },
  {
   "cell_type": "markdown",
   "id": "69a410a4-e0a4-4a5f-9563-71f1517ec580",
   "metadata": {},
   "source": []
  }
 ],
 "metadata": {
  "kernelspec": {
   "display_name": "Python 3 (ipykernel)",
   "language": "python",
   "name": "python3"
  },
  "language_info": {
   "codemirror_mode": {
    "name": "ipython",
    "version": 3
   },
   "file_extension": ".py",
   "mimetype": "text/x-python",
   "name": "python",
   "nbconvert_exporter": "python",
   "pygments_lexer": "ipython3",
   "version": "3.13.0"
  },
  "widgets": {
   "application/vnd.jupyter.widget-state+json": {
    "state": {},
    "version_major": 2,
    "version_minor": 0
   }
  }
 },
 "nbformat": 4,
 "nbformat_minor": 5
}
