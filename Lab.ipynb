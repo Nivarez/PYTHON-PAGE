{
 "cells": [
  {
   "cell_type": "code",
   "execution_count": 5,
   "id": "6348a11b-ff45-49be-8499-f3751334a7f1",
   "metadata": {},
   "outputs": [
    {
     "name": "stdout",
     "output_type": "stream",
     "text": [
      "Hello, my name is Richard and i am 27 years old.\n"
     ]
    }
   ],
   "source": [
    "class person:\n",
    "    def __init__(self,name,age):\n",
    "        self.n=name\n",
    "        self.a=age\n",
    "    def introduce(self):\n",
    "         print(f'Hello, my name is {self.n} and i am {self.a} years old.')\n",
    "\n",
    "person1=person('Richard',27)\n",
    "person1.introduce()\n",
    "        "
   ]
  },
  {
   "cell_type": "code",
   "execution_count": 2,
   "id": "0758c34c-2d01-41da-b836-6da33ee14cd3",
   "metadata": {},
   "outputs": [
    {
     "name": "stdout",
     "output_type": "stream",
     "text": [
      "My name is Richard and i am 27 years old.\n"
     ]
    },
    {
     "data": {
      "text/plain": [
       "<function __main__.person(name, age)>"
      ]
     },
     "execution_count": 2,
     "metadata": {},
     "output_type": "execute_result"
    }
   ],
   "source": [
    "#Tried another method.\n",
    "def person(name,age):\n",
    "        print(f'My name is {name} and i am {age} years old.' )\n",
    "\n",
    "person('Richard',27)\n",
    "person\n",
    "    "
   ]
  },
  {
   "cell_type": "code",
   "execution_count": null,
   "id": "fe4a8c8f-87ff-45b2-b82e-d3fee7ae4bd9",
   "metadata": {},
   "outputs": [],
   "source": []
  }
 ],
 "metadata": {
  "kernelspec": {
   "display_name": "Python 3 (ipykernel)",
   "language": "python",
   "name": "python3"
  },
  "language_info": {
   "codemirror_mode": {
    "name": "ipython",
    "version": 3
   },
   "file_extension": ".py",
   "mimetype": "text/x-python",
   "name": "python",
   "nbconvert_exporter": "python",
   "pygments_lexer": "ipython3",
   "version": "3.13.0"
  },
  "widgets": {
   "application/vnd.jupyter.widget-state+json": {
    "state": {},
    "version_major": 2,
    "version_minor": 0
   }
  }
 },
 "nbformat": 4,
 "nbformat_minor": 5
}
