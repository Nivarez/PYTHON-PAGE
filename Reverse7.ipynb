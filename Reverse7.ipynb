{
 "cells": [
  {
   "cell_type": "code",
   "execution_count": 13,
   "id": "7e8c1908-72c6-4eed-a7fa-93ea038c6c1c",
   "metadata": {},
   "outputs": [],
   "source": [
    "def greetings(name, msg):\n",
    "    print(\"Hello, My name is \",name,msg)"
   ]
  },
  {
   "cell_type": "code",
   "execution_count": 15,
   "id": "f29a87d7-a76f-4031-b0ff-ce303a1b01f2",
   "metadata": {},
   "outputs": [
    {
     "name": "stdout",
     "output_type": "stream",
     "text": [
      "Hello, My name is  Richard, I am wealthy!\n"
     ]
    }
   ],
   "source": [
    "greetings(\"Richard,\", \"I am wealthy!\")"
   ]
  },
  {
   "cell_type": "code",
   "execution_count": 17,
   "id": "a43318d9-e4bc-4b21-991e-674a3891562c",
   "metadata": {},
   "outputs": [
    {
     "name": "stdout",
     "output_type": "stream",
     "text": [
      "The area of the rectangle is  2000\n"
     ]
    }
   ],
   "source": [
    "def area(L,B):\n",
    "    print(\"The area of the rectangle is \",L*B)\n",
    "\n",
    "area(L=100, B=20)"
   ]
  },
  {
   "cell_type": "code",
   "execution_count": 20,
   "id": "76921ba0-08e1-4a41-928c-a8b84dee8e26",
   "metadata": {},
   "outputs": [
    {
     "data": {
      "text/plain": [
       "212.0"
      ]
     },
     "execution_count": 20,
     "metadata": {},
     "output_type": "execute_result"
    }
   ],
   "source": [
    "def temp(cel):\n",
    "    f=cel*9/5+32\n",
    "    return f\n",
    "\n",
    "temp(100)"
   ]
  },
  {
   "cell_type": "code",
   "execution_count": 33,
   "id": "59f8a5b7-6fc5-4424-a4c9-cdf0e2815297",
   "metadata": {},
   "outputs": [
    {
     "name": "stdout",
     "output_type": "stream",
     "text": [
      "You are  90 degree Hot!\n"
     ]
    }
   ],
   "source": [
    "def temp(x,y):\n",
    "    print(\"You are \",x,\"degree\",y)\n",
    "\n",
    "temp(x=90, y=\"Hot!\")"
   ]
  },
  {
   "cell_type": "code",
   "execution_count": 43,
   "id": "1594a190-799f-475c-a135-f15484f070be",
   "metadata": {},
   "outputs": [
    {
     "name": "stdout",
     "output_type": "stream",
     "text": [
      "My name is Jack ,i am a Dog ,and my color is white.\n"
     ]
    }
   ],
   "source": [
    "def pet(name,color,breed):\n",
    "    print(\"My name is\",name,','\"i am a\",breed,','\"and my color is\",color)\n",
    "\n",
    "pet(\"Jack\",\"white.\",\"Dog\")"
   ]
  },
  {
   "cell_type": "code",
   "execution_count": null,
   "id": "636ca068-2e68-416b-a247-25252ed9b1d9",
   "metadata": {},
   "outputs": [],
   "source": []
  }
 ],
 "metadata": {
  "kernelspec": {
   "display_name": "Python 3 (ipykernel)",
   "language": "python",
   "name": "python3"
  },
  "language_info": {
   "codemirror_mode": {
    "name": "ipython",
    "version": 3
   },
   "file_extension": ".py",
   "mimetype": "text/x-python",
   "name": "python",
   "nbconvert_exporter": "python",
   "pygments_lexer": "ipython3",
   "version": "3.13.0"
  },
  "widgets": {
   "application/vnd.jupyter.widget-state+json": {
    "state": {},
    "version_major": 2,
    "version_minor": 0
   }
  }
 },
 "nbformat": 4,
 "nbformat_minor": 5
}
