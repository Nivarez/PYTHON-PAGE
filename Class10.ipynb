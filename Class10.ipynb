{
 "cells": [
  {
   "cell_type": "code",
   "execution_count": 1,
   "id": "cbbdee9f-b8ac-4fbb-8a2a-1483533d3202",
   "metadata": {},
   "outputs": [],
   "source": [
    "class car:\n",
    "    type='jeep'"
   ]
  },
  {
   "cell_type": "code",
   "execution_count": 2,
   "id": "81ac7c86-d609-4125-b712-2374c55a82ce",
   "metadata": {},
   "outputs": [
    {
     "name": "stdout",
     "output_type": "stream",
     "text": [
      "jeep\n"
     ]
    }
   ],
   "source": [
    "car1=car()\n",
    "print(car1.type)"
   ]
  },
  {
   "cell_type": "code",
   "execution_count": 8,
   "id": "9a38be31-c28d-48b3-8f09-d130347c893c",
   "metadata": {},
   "outputs": [],
   "source": [
    "class motor:    #Every function in a class in called a method. You must always have a self argument inside the function.\n",
    "    def spec(self):\n",
    "        print('i am',self.name,'and i weigh',self.weight,'kg')\n",
    "        "
   ]
  },
  {
   "cell_type": "code",
   "execution_count": 9,
   "id": "e49fd1f7-2ee0-4606-b434-aab2b9a0bb79",
   "metadata": {},
   "outputs": [
    {
     "name": "stdout",
     "output_type": "stream",
     "text": [
      "i am Toyota and i weigh 300 kg\n",
      "i am Benz and i weigh 600 kg\n"
     ]
    }
   ],
   "source": [
    "m1=motor()\n",
    "m1.name=\"Toyota\"\n",
    "m1.weight=300\n",
    "\n",
    "m2=motor()\n",
    "m2.name=\"Benz\"\n",
    "m2.weight=600\n",
    "\n",
    "m1.spec()\n",
    "m2.spec()"
   ]
  },
  {
   "cell_type": "code",
   "execution_count": 12,
   "id": "a1ad99e4-ae05-46eb-ae46-dd6ba0e6bf5c",
   "metadata": {},
   "outputs": [],
   "source": [
    "class motor:\n",
    "    def __init__(mine,name,weight):\n",
    "        mine.name=name\n",
    "        mine.weight=weight\n",
    "    def spec(mine):\n",
    "        print(f'i am {mine.name} and i weigh {mine.weight}kg')"
   ]
  },
  {
   "cell_type": "code",
   "execution_count": 13,
   "id": "23561c17-b9a2-4aef-8251-e1e1ee508b27",
   "metadata": {},
   "outputs": [
    {
     "name": "stdout",
     "output_type": "stream",
     "text": [
      "i am Acura and i weigh 300kg\n",
      "i am porsche and i weigh 500kg\n"
     ]
    }
   ],
   "source": [
    "motor1=motor('Acura',300)\n",
    "motor2=motor('porsche', 500)\n",
    "motor1.spec()\n",
    "motor2.spec()"
   ]
  },
  {
   "cell_type": "code",
   "execution_count": null,
   "id": "95a13e28-e171-4fa6-bc8b-11e506e04daf",
   "metadata": {},
   "outputs": [],
   "source": []
  }
 ],
 "metadata": {
  "kernelspec": {
   "display_name": "Python 3 (ipykernel)",
   "language": "python",
   "name": "python3"
  },
  "language_info": {
   "codemirror_mode": {
    "name": "ipython",
    "version": 3
   },
   "file_extension": ".py",
   "mimetype": "text/x-python",
   "name": "python",
   "nbconvert_exporter": "python",
   "pygments_lexer": "ipython3",
   "version": "3.13.0"
  },
  "widgets": {
   "application/vnd.jupyter.widget-state+json": {
    "state": {},
    "version_major": 2,
    "version_minor": 0
   }
  }
 },
 "nbformat": 4,
 "nbformat_minor": 5
}
