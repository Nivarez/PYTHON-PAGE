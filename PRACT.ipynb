{
 "cells": [
  {
   "cell_type": "code",
   "execution_count": 9,
   "id": "00543e5a-c252-44e7-8f48-e70488d825d4",
   "metadata": {},
   "outputs": [
    {
     "name": "stdin",
     "output_type": "stream",
     "text": [
      "Enter a number:  0\n"
     ]
    },
    {
     "name": "stdout",
     "output_type": "stream",
     "text": [
      "This number is zero\n"
     ]
    }
   ],
   "source": [
    "number=float(input(\"Enter a number: \"))\n",
    "if number==0:\n",
    "    print(\"This number is zero\")\n",
    "elif number>0:\n",
    "    print(f'This number is positive')\n",
    "else:\n",
    "    print(f'This number is negative')"
   ]
  },
  {
   "cell_type": "code",
   "execution_count": 15,
   "id": "615438c1-6fdd-4726-9056-24b28fbc5777",
   "metadata": {},
   "outputs": [
    {
     "name": "stdin",
     "output_type": "stream",
     "text": [
      "Enter your age:  26\n"
     ]
    },
    {
     "name": "stdout",
     "output_type": "stream",
     "text": [
      "You are an adult\n"
     ]
    }
   ],
   "source": [
    "age=int(input(\"Enter your age: \"))\n",
    "if age<13:\n",
    "    print('You are a child')\n",
    "elif age>=13 and age<18:\n",
    "    print('You are a teenager')\n",
    "elif age>=18 and age<=59:\n",
    "    print('You are an adult')\n",
    "else:\n",
    "    print('You are old')"
   ]
  },
  {
   "cell_type": "code",
   "execution_count": null,
   "id": "9ee02b6c-50d7-4b66-b18a-aa05334d193a",
   "metadata": {},
   "outputs": [],
   "source": []
  }
 ],
 "metadata": {
  "kernelspec": {
   "display_name": "Python 3 (ipykernel)",
   "language": "python",
   "name": "python3"
  },
  "language_info": {
   "codemirror_mode": {
    "name": "ipython",
    "version": 3
   },
   "file_extension": ".py",
   "mimetype": "text/x-python",
   "name": "python",
   "nbconvert_exporter": "python",
   "pygments_lexer": "ipython3",
   "version": "3.13.0"
  },
  "widgets": {
   "application/vnd.jupyter.widget-state+json": {
    "state": {},
    "version_major": 2,
    "version_minor": 0
   }
  }
 },
 "nbformat": 4,
 "nbformat_minor": 5
}
