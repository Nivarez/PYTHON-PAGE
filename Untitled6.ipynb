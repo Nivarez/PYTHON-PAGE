{
 "cells": [
  {
   "cell_type": "code",
   "execution_count": 52,
   "id": "c1b28d6b-992c-461d-adca-1eb1becbaf14",
   "metadata": {},
   "outputs": [
    {
     "ename": "TypeError",
     "evalue": "'int' object is not iterable",
     "output_type": "error",
     "traceback": [
      "\u001b[1;31m---------------------------------------------------------------------------\u001b[0m",
      "\u001b[1;31mTypeError\u001b[0m                                 Traceback (most recent call last)",
      "Cell \u001b[1;32mIn[52], line 2\u001b[0m\n\u001b[0;32m      1\u001b[0m z\u001b[38;5;241m=\u001b[39m\u001b[38;5;241m10\u001b[39m\n\u001b[1;32m----> 2\u001b[0m \u001b[38;5;28;43;01mfor\u001b[39;49;00m\u001b[43m \u001b[49m\u001b[43mi\u001b[49m\u001b[43m \u001b[49m\u001b[38;5;129;43;01min\u001b[39;49;00m\u001b[43m \u001b[49m\u001b[43mz\u001b[49m\u001b[43m:\u001b[49m\n\u001b[0;32m      3\u001b[0m \u001b[43m    \u001b[49m\u001b[38;5;28;43;01mif\u001b[39;49;00m\u001b[43m \u001b[49m\u001b[43mi\u001b[49m\u001b[38;5;241;43m>\u001b[39;49m\u001b[38;5;241;43m0\u001b[39;49m\u001b[43m:\u001b[49m\n\u001b[0;32m      4\u001b[0m \u001b[43m        \u001b[49m\u001b[38;5;28;43mprint\u001b[39;49m\u001b[43m(\u001b[49m\u001b[43mi\u001b[49m\u001b[43m)\u001b[49m\n",
      "\u001b[1;31mTypeError\u001b[0m: 'int' object is not iterable"
     ]
    }
   ],
   "source": [
    "z=10\n",
    "for i in z:\n",
    "    if i>0:\n",
    "        print(i)"
   ]
  },
  {
   "cell_type": "code",
   "execution_count": 12,
   "id": "a376eb74-9d8f-4769-b86c-8c8259c62f35",
   "metadata": {},
   "outputs": [
    {
     "name": "stdout",
     "output_type": "stream",
     "text": [
      "['Apple', 'Orange', 'Potatoe', 'Rice']\n"
     ]
    }
   ],
   "source": [
    "shoppinglist=[\"Apple\",\"Orange\",\"Potatoe\",\"Rice\"]\n",
    "print(shoppinglist)"
   ]
  },
  {
   "cell_type": "code",
   "execution_count": 13,
   "id": "367c0b37-e3af-43d8-850f-904f2c01793c",
   "metadata": {},
   "outputs": [
    {
     "name": "stdout",
     "output_type": "stream",
     "text": [
      "Apple\n",
      "Orange\n",
      "Potatoe\n",
      "Rice\n"
     ]
    }
   ],
   "source": [
    "shoppinglist=[\"Apple\",\"Orange\",\"Potatoe\",\"Rice\"]\n",
    "for x in shoppinglist:\n",
    "    print(x)"
   ]
  },
  {
   "cell_type": "code",
   "execution_count": 15,
   "id": "d602664b-0152-4649-84e8-5ce420a462bf",
   "metadata": {},
   "outputs": [
    {
     "name": "stdout",
     "output_type": "stream",
     "text": [
      "Apple\n",
      "Orange\n",
      "Potatoe\n"
     ]
    }
   ],
   "source": [
    "shoppinglist=[\"Apple\",\"Orange\",\"Potatoe\",\"Rice\"]\n",
    "for x in shoppinglist:\n",
    "    if x==\"Rice\":\n",
    "        break\n",
    "    print(x)"
   ]
  },
  {
   "cell_type": "code",
   "execution_count": 18,
   "id": "b8a77aac-0034-4207-b9ac-40440af0c8df",
   "metadata": {},
   "outputs": [
    {
     "name": "stdout",
     "output_type": "stream",
     "text": [
      "Apple\n",
      "Orange\n",
      "Potatoe\n"
     ]
    }
   ],
   "source": [
    "shoppinglist=(\"Apple\",\"Orange\",\"Potatoe\",\"Rice\")\n",
    "for x in shoppinglist:\n",
    "    if x==\"Rice\":\n",
    "        break\n",
    "    print(x)   "
   ]
  },
  {
   "cell_type": "code",
   "execution_count": 22,
   "id": "46fc0999-14b0-4536-9cc6-83b152ac1031",
   "metadata": {},
   "outputs": [
    {
     "name": "stdout",
     "output_type": "stream",
     "text": [
      "The sum of a and b is 100\n"
     ]
    }
   ],
   "source": [
    "a=50; b=50\n",
    "match(a+b):\n",
    "    case 50:\n",
    "        print(\"The sum of a and b is 50\")\n",
    "    case 100:\n",
    "        print(\"The sum of a and b is 100\")\n",
    "    case 200:\n",
    "        print(\"The sum of a and b is 200\")"
   ]
  },
  {
   "cell_type": "code",
   "execution_count": 31,
   "id": "4f87ac8e-c48a-47d7-8f3f-7ad43c3871fb",
   "metadata": {},
   "outputs": [
    {
     "name": "stdout",
     "output_type": "stream",
     "text": [
      "20 This is an even number\n",
      "21\n",
      "22 This is an even number\n",
      "23\n",
      "24 This is an even number\n",
      "25\n",
      "26 This is an even number\n",
      "27\n",
      "28 This is an even number\n",
      "29\n",
      "30 This is an even number\n"
     ]
    }
   ],
   "source": [
    "num=(20,21,22,23,24,25,26,27,28,29,30)\n",
    "for x in num:\n",
    "    if x % 2==0:\n",
    "        print(x,\"This is an even number\")\n",
    "    else:\n",
    "        print(x)"
   ]
  },
  {
   "cell_type": "code",
   "execution_count": 44,
   "id": "d707055e-7e4d-46f3-aa79-7ffbdc6c3a81",
   "metadata": {},
   "outputs": [
    {
     "name": "stdout",
     "output_type": "stream",
     "text": [
      "[41, 'integer', 67, 90, 24]\n"
     ]
    }
   ],
   "source": [
    "number=[41,23,67,90,24]\n",
    "number[1] = 'integer'\n",
    "print(number)"
   ]
  },
  {
   "cell_type": "code",
   "execution_count": 47,
   "id": "80d531e6-e2b0-4cbe-94e7-3af76b5c15af",
   "metadata": {},
   "outputs": [
    {
     "name": "stdout",
     "output_type": "stream",
     "text": [
      "This is basic promgramming language\n"
     ]
    }
   ],
   "source": [
    "def message():\n",
    "    print(\"This is basic promgramming language\")\n",
    "\n",
    "message()"
   ]
  },
  {
   "cell_type": "code",
   "execution_count": null,
   "id": "2189632f-d29a-4aff-8755-c34f1137a0a1",
   "metadata": {},
   "outputs": [],
   "source": []
  }
 ],
 "metadata": {
  "kernelspec": {
   "display_name": "Python 3 (ipykernel)",
   "language": "python",
   "name": "python3"
  },
  "language_info": {
   "codemirror_mode": {
    "name": "ipython",
    "version": 3
   },
   "file_extension": ".py",
   "mimetype": "text/x-python",
   "name": "python",
   "nbconvert_exporter": "python",
   "pygments_lexer": "ipython3",
   "version": "3.13.0"
  },
  "widgets": {
   "application/vnd.jupyter.widget-state+json": {
    "state": {},
    "version_major": 2,
    "version_minor": 0
   }
  }
 },
 "nbformat": 4,
 "nbformat_minor": 5
}
