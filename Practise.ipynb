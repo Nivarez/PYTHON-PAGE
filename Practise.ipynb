{
 "cells": [
  {
   "cell_type": "code",
   "execution_count": 4,
   "id": "371ab3a0-c2d2-4087-921a-2ace74469a4e",
   "metadata": {},
   "outputs": [
    {
     "name": "stdout",
     "output_type": "stream",
     "text": [
      "The sum of 100 and 900 is: 1000\n"
     ]
    }
   ],
   "source": [
    "a=100\n",
    "z=900\n",
    "sum=a+z\n",
    "print(\"The sum of 100 and 900 is:\",+sum)"
   ]
  },
  {
   "cell_type": "code",
   "execution_count": 10,
   "id": "ae181b12-41d6-4af5-abb7-62fcfe65764b",
   "metadata": {},
   "outputs": [
    {
     "name": "stdout",
     "output_type": "stream",
     "text": [
      "Hello, My names are: Emmanuel Richard Oghenemaro\n"
     ]
    }
   ],
   "source": [
    "name=\"Emmanuel Richard Oghenemaro\"\n",
    "print(\"Hello, My names are:\",name)"
   ]
  },
  {
   "cell_type": "code",
   "execution_count": 18,
   "id": "761b9d84-7628-43ac-bcaa-dc38b028b12d",
   "metadata": {},
   "outputs": [
    {
     "name": "stdout",
     "output_type": "stream",
     "text": [
      "Hello, My names are: \n",
      " OGHENEMARO RICHARD EMMANUEL\n"
     ]
    }
   ],
   "source": [
    "print(\"Hello, My names are: \\n OGHENEMARO RICHARD EMMANUEL\")"
   ]
  },
  {
   "cell_type": "code",
   "execution_count": 19,
   "id": "48c884f5-c3f8-4c80-b5b5-9909bedb53f2",
   "metadata": {},
   "outputs": [
    {
     "name": "stdout",
     "output_type": "stream",
     "text": [
      "300\n"
     ]
    }
   ],
   "source": [
    "x=155\n",
    "y=145\n",
    "print(x+y)"
   ]
  },
  {
   "cell_type": "code",
   "execution_count": 21,
   "id": "9cf08984-8be4-42b9-904b-13145d0484f3",
   "metadata": {},
   "outputs": [
    {
     "name": "stdout",
     "output_type": "stream",
     "text": [
      "Hello world\n"
     ]
    }
   ],
   "source": [
    "#This is my first experience in python.\n",
    "print(\"Hello world\")"
   ]
  },
  {
   "cell_type": "code",
   "execution_count": 23,
   "id": "0eb9fc69-2cec-4a41-bee9-cb688ce4a6ba",
   "metadata": {},
   "outputs": [
    {
     "name": "stdout",
     "output_type": "stream",
     "text": [
      "21.0\n"
     ]
    }
   ],
   "source": [
    "i=10.5\n",
    "q=10.5\n",
    "print(i+q)"
   ]
  },
  {
   "cell_type": "code",
   "execution_count": null,
   "id": "40af8da1-baa1-47bd-9da1-eca796a98364",
   "metadata": {},
   "outputs": [],
   "source": []
  }
 ],
 "metadata": {
  "kernelspec": {
   "display_name": "Python 3 (ipykernel)",
   "language": "python",
   "name": "python3"
  },
  "language_info": {
   "codemirror_mode": {
    "name": "ipython",
    "version": 3
   },
   "file_extension": ".py",
   "mimetype": "text/x-python",
   "name": "python",
   "nbconvert_exporter": "python",
   "pygments_lexer": "ipython3",
   "version": "3.13.0"
  },
  "widgets": {
   "application/vnd.jupyter.widget-state+json": {
    "state": {},
    "version_major": 2,
    "version_minor": 0
   }
  }
 },
 "nbformat": 4,
 "nbformat_minor": 5
}
