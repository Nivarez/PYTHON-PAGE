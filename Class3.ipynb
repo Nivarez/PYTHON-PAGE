{
 "cells": [
  {
   "cell_type": "markdown",
   "id": "1a80a5af-2749-48c6-bf4b-dbcbfad80d78",
   "metadata": {},
   "source": [
    "# f'string is also used for concertinating and modifying"
   ]
  },
  {
   "cell_type": "code",
   "execution_count": 1,
   "id": "716a61bb-1df9-475e-a319-f135658428b0",
   "metadata": {},
   "outputs": [
    {
     "name": "stdout",
     "output_type": "stream",
     "text": [
      "we are in year: 2024\n"
     ]
    }
   ],
   "source": [
    "#f'string >> format string\n",
    "year=2000+24\n",
    "print(f'we are in year: {year}')"
   ]
  },
  {
   "cell_type": "markdown",
   "id": "8eea0b5a-e751-46a1-a18e-3cd4d835245d",
   "metadata": {},
   "source": [
    "# if statement"
   ]
  },
  {
   "cell_type": "code",
   "execution_count": 5,
   "id": "3b5fa4b7-2d3d-4f04-b884-b0497254ed44",
   "metadata": {},
   "outputs": [
    {
     "name": "stdout",
     "output_type": "stream",
     "text": [
      "positive\n",
      "negative\n",
      "This code is Executed\n"
     ]
    }
   ],
   "source": [
    "number=3\n",
    "if number>2:\n",
    "    print(\"positive\")\n",
    "    print('negative')\n",
    "print('This code is Executed')    "
   ]
  },
  {
   "cell_type": "markdown",
   "id": "3866bcd9-73e9-4e59-b589-5581c54cefda",
   "metadata": {},
   "source": [
    "# if else"
   ]
  },
  {
   "cell_type": "code",
   "execution_count": 10,
   "id": "61a20e52-10f9-4b00-be20-d21a74d67231",
   "metadata": {},
   "outputs": [
    {
     "name": "stdout",
     "output_type": "stream",
     "text": [
      "this is a positive number\n",
      "i am executing inside the if statement\n"
     ]
    }
   ],
   "source": [
    "number=3\n",
    "if number>0:\n",
    "    print(\"this is a positive number\")\n",
    "    print(\"i am executing inside the if statement\")\n",
    "else:\n",
    "    print(\"this is a negative number\")\n",
    "    print(\"i am executing inside the else if statement\")"
   ]
  },
  {
   "cell_type": "markdown",
   "id": "bec7e617-4cab-4eea-87f3-b0a7c2e396f7",
   "metadata": {},
   "source": [
    "# if, elif and else"
   ]
  },
  {
   "cell_type": "code",
   "execution_count": 11,
   "id": "64ccc5b0-d7d1-4cff-b70d-efe4ca6335cf",
   "metadata": {},
   "outputs": [
    {
     "name": "stdout",
     "output_type": "stream",
     "text": [
      "zero\n"
     ]
    }
   ],
   "source": [
    "number=0\n",
    "if number>0:\n",
    "    print(\"positive number\")\n",
    "elif number==0:\n",
    "    print(\"zero\")\n",
    "else:\n",
    "    print(\"negative number\")"
   ]
  },
  {
   "cell_type": "markdown",
   "id": "0824fd31-7551-409f-abd1-a9e68813f815",
   "metadata": {},
   "source": [
    "# input function"
   ]
  },
  {
   "cell_type": "code",
   "execution_count": 14,
   "id": "87a71742-d5bb-4eb8-a0e8-a5480e1c2e91",
   "metadata": {},
   "outputs": [
    {
     "name": "stdin",
     "output_type": "stream",
     "text": [
      "Enter your name:  Richard\n"
     ]
    },
    {
     "name": "stdout",
     "output_type": "stream",
     "text": [
      "You are welcome Richard\n"
     ]
    }
   ],
   "source": [
    "name=input(\"Enter your name: \")\n",
    "print('You are welcome',name)"
   ]
  },
  {
   "cell_type": "code",
   "execution_count": 19,
   "id": "8ac7d720-a5d9-402a-b964-8bf368e461ac",
   "metadata": {},
   "outputs": [
    {
     "name": "stdin",
     "output_type": "stream",
     "text": [
      "Enter a number: 7\n"
     ]
    },
    {
     "name": "stdout",
     "output_type": "stream",
     "text": [
      "7\n"
     ]
    }
   ],
   "source": [
    "value= input('Enter a number:')\n",
    "print(value)"
   ]
  },
  {
   "cell_type": "code",
   "execution_count": 17,
   "id": "ed0635fa-8f84-499f-ac18-99b697d06f20",
   "metadata": {},
   "outputs": [
    {
     "name": "stdin",
     "output_type": "stream",
     "text": [
      "Enter a number:  7\n"
     ]
    },
    {
     "name": "stdout",
     "output_type": "stream",
     "text": [
      "<class 'int'>\n"
     ]
    }
   ],
   "source": [
    "value=int(input('Enter a number: '))\n",
    "print(type(value))"
   ]
  },
  {
   "cell_type": "code",
   "execution_count": 1,
   "id": "4123dacb-a533-4751-9569-77af79d2f059",
   "metadata": {},
   "outputs": [
    {
     "name": "stdout",
     "output_type": "stream",
     "text": [
      "what operation do you want\n"
     ]
    },
    {
     "name": "stdin",
     "output_type": "stream",
     "text": [
      "Enter an operator +,- /\n",
      "Enter first number 100\n",
      "Enter second number 2\n"
     ]
    },
    {
     "name": "stdout",
     "output_type": "stream",
     "text": [
      "100.0 / 2.0 = 98.0\n"
     ]
    }
   ],
   "source": [
    "print(\"what operation do you want\")\n",
    "operator=input('Enter an operator +,-')\n",
    "n1=float(input('Enter first number'))\n",
    "n2=float(input('Enter second number'))\n",
    "if operator=='+':\n",
    "    sum=int(n1+n2)\n",
    "    print(n1,operator,n2,'=',sum)\n",
    "else:\n",
    "    print(n1,operator,n2,'=',n1-n2)"
   ]
  },
  {
   "cell_type": "code",
   "execution_count": null,
   "id": "08dc358b-e063-40a7-afda-2c2466484ff9",
   "metadata": {},
   "outputs": [],
   "source": []
  }
 ],
 "metadata": {
  "kernelspec": {
   "display_name": "Python 3 (ipykernel)",
   "language": "python",
   "name": "python3"
  },
  "language_info": {
   "codemirror_mode": {
    "name": "ipython",
    "version": 3
   },
   "file_extension": ".py",
   "mimetype": "text/x-python",
   "name": "python",
   "nbconvert_exporter": "python",
   "pygments_lexer": "ipython3",
   "version": "3.13.0"
  },
  "widgets": {
   "application/vnd.jupyter.widget-state+json": {
    "state": {},
    "version_major": 2,
    "version_minor": 0
   }
  }
 },
 "nbformat": 4,
 "nbformat_minor": 5
}
